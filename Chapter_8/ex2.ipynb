{
 "cells": [
  {
   "cell_type": "code",
   "execution_count": 1,
   "id": "0fa02fca",
   "metadata": {},
   "outputs": [
    {
     "name": "stderr",
     "output_type": "stream",
     "text": [
      "2025-06-08 07:53:46.413994: I external/local_xla/xla/tsl/cuda/cudart_stub.cc:32] Could not find cuda drivers on your machine, GPU will not be used.\n",
      "2025-06-08 07:53:46.705182: I external/local_xla/xla/tsl/cuda/cudart_stub.cc:32] Could not find cuda drivers on your machine, GPU will not be used.\n",
      "2025-06-08 07:53:46.922309: E external/local_xla/xla/stream_executor/cuda/cuda_fft.cc:467] Unable to register cuFFT factory: Attempting to register factory for plugin cuFFT when one has already been registered\n",
      "WARNING: All log messages before absl::InitializeLog() is called are written to STDERR\n",
      "E0000 00:00:1749344026.948838   58255 cuda_dnn.cc:8579] Unable to register cuDNN factory: Attempting to register factory for plugin cuDNN when one has already been registered\n",
      "E0000 00:00:1749344026.955693   58255 cuda_blas.cc:1407] Unable to register cuBLAS factory: Attempting to register factory for plugin cuBLAS when one has already been registered\n",
      "W0000 00:00:1749344027.292626   58255 computation_placer.cc:177] computation placer already registered. Please check linkage and avoid linking the same target more than once.\n",
      "W0000 00:00:1749344027.292681   58255 computation_placer.cc:177] computation placer already registered. Please check linkage and avoid linking the same target more than once.\n",
      "W0000 00:00:1749344027.292686   58255 computation_placer.cc:177] computation placer already registered. Please check linkage and avoid linking the same target more than once.\n",
      "W0000 00:00:1749344027.292691   58255 computation_placer.cc:177] computation placer already registered. Please check linkage and avoid linking the same target more than once.\n",
      "2025-06-08 07:53:47.372679: I tensorflow/core/platform/cpu_feature_guard.cc:210] This TensorFlow binary is optimized to use available CPU instructions in performance-critical operations.\n",
      "To enable the following instructions: AVX2 FMA, in other operations, rebuild TensorFlow with the appropriate compiler flags.\n"
     ]
    }
   ],
   "source": [
    "import tensorflow as tf"
   ]
  },
  {
   "cell_type": "code",
   "execution_count": 2,
   "id": "16e263f1",
   "metadata": {},
   "outputs": [
    {
     "name": "stdout",
     "output_type": "stream",
     "text": [
      "[0.16513085 0.9014813  0.6309742  0.4345461  0.29193902 0.64250207]\n"
     ]
    },
    {
     "name": "stderr",
     "output_type": "stream",
     "text": [
      "2025-06-08 07:54:03.206885: E external/local_xla/xla/stream_executor/cuda/cuda_platform.cc:51] failed call to cuInit: INTERNAL: CUDA error: Failed call to cuInit: UNKNOWN ERROR (303)\n"
     ]
    },
    {
     "data": {
      "text/plain": [
       "[array([0.16513085, 0.9014813 ], dtype=float32),\n",
       " array([0.6309742, 0.4345461], dtype=float32),\n",
       " array([0.29193902, 0.64250207], dtype=float32)]"
      ]
     },
     "execution_count": 2,
     "metadata": {},
     "output_type": "execute_result"
    }
   ],
   "source": [
    "tf.random.set_seed(1)\n",
    "t = tf.random.uniform((6,))\n",
    "print(t.numpy())\n",
    "t_splits = tf.split(t,3) # tách tensor 6 làm 3 phần\n",
    "[item.numpy() for item in t_splits]"
   ]
  },
  {
   "cell_type": "code",
   "execution_count": 3,
   "id": "5d65806f",
   "metadata": {},
   "outputs": [
    {
     "name": "stdout",
     "output_type": "stream",
     "text": [
      "[1. 1. 1. 0. 0.]\n"
     ]
    }
   ],
   "source": [
    "A = tf.ones((3,))\n",
    "B = tf.zeros((2,))\n",
    "C = tf.concat([A,B],axis=0)\n",
    "print(C.numpy())"
   ]
  },
  {
   "cell_type": "code",
   "execution_count": 4,
   "id": "d2e128e2",
   "metadata": {},
   "outputs": [
    {
     "name": "stdout",
     "output_type": "stream",
     "text": [
      "[[1. 0.]\n",
      " [1. 0.]\n",
      " [1. 0.]]\n"
     ]
    }
   ],
   "source": [
    "A = tf.ones((3,))\n",
    "B = tf.zeros((3,))\n",
    "S = tf.stack([A,B],axis=1)\n",
    "print(S.numpy())"
   ]
  },
  {
   "cell_type": "code",
   "execution_count": 5,
   "id": "bd75a8d9",
   "metadata": {},
   "outputs": [
    {
     "name": "stdout",
     "output_type": "stream",
     "text": [
      "<_TensorSliceDataset element_spec=TensorSpec(shape=(), dtype=tf.float32, name=None)>\n"
     ]
    }
   ],
   "source": [
    "a = [1.2,3.4,7.5,4.1,5.0,1.0]\n",
    "ds = tf.data.Dataset.from_tensor_slices(a)\n",
    "print(ds)"
   ]
  },
  {
   "cell_type": "code",
   "execution_count": 6,
   "id": "0f28fda8",
   "metadata": {},
   "outputs": [
    {
     "name": "stdout",
     "output_type": "stream",
     "text": [
      "tf.Tensor(1.2, shape=(), dtype=float32)\n",
      "tf.Tensor(3.4, shape=(), dtype=float32)\n",
      "tf.Tensor(7.5, shape=(), dtype=float32)\n",
      "tf.Tensor(4.1, shape=(), dtype=float32)\n",
      "tf.Tensor(5.0, shape=(), dtype=float32)\n",
      "tf.Tensor(1.0, shape=(), dtype=float32)\n"
     ]
    },
    {
     "name": "stderr",
     "output_type": "stream",
     "text": [
      "2025-06-08 07:54:35.732015: I tensorflow/core/framework/local_rendezvous.cc:407] Local rendezvous is aborting with status: OUT_OF_RANGE: End of sequence\n"
     ]
    }
   ],
   "source": [
    "for item in ds:\n",
    "  print(item)"
   ]
  },
  {
   "cell_type": "code",
   "execution_count": 7,
   "id": "d0c0967f",
   "metadata": {},
   "outputs": [
    {
     "name": "stdout",
     "output_type": "stream",
     "text": [
      "batch 100: [1.2 3.4 7.5]\n",
      "batch 101: [4.1 5.  1. ]\n"
     ]
    },
    {
     "name": "stderr",
     "output_type": "stream",
     "text": [
      "2025-06-08 07:54:44.763123: I tensorflow/core/framework/local_rendezvous.cc:407] Local rendezvous is aborting with status: OUT_OF_RANGE: End of sequence\n"
     ]
    }
   ],
   "source": [
    "ds_batch = ds.batch(3)\n",
    "for i, elem in enumerate(ds_batch,100):\n",
    "  print('batch {}:'.format(i),elem.numpy())"
   ]
  },
  {
   "cell_type": "code",
   "execution_count": 8,
   "id": "f876ef10",
   "metadata": {},
   "outputs": [
    {
     "name": "stdout",
     "output_type": "stream",
     "text": [
      "tf.Tensor(\n",
      "[[0.16513085 0.9014813  0.6309742 ]\n",
      " [0.4345461  0.29193902 0.64250207]\n",
      " [0.9757855  0.43509948 0.6601019 ]\n",
      " [0.60489583 0.6366315  0.6144488 ]], shape=(4, 3), dtype=float32)\n",
      "tf.Tensor([0 1 2 3], shape=(4,), dtype=int32)\n"
     ]
    }
   ],
   "source": [
    "tf.random.set_seed(1)\n",
    "t_x = tf.random.uniform([4,3],dtype=tf.float32)\n",
    "t_y = tf.range(4)\n",
    "print(t_x)\n",
    "print(t_y)"
   ]
  },
  {
   "cell_type": "code",
   "execution_count": 9,
   "id": "3ebb28c6",
   "metadata": {},
   "outputs": [
    {
     "name": "stdout",
     "output_type": "stream",
     "text": [
      " x: [0.16513085 0.9014813  0.6309742 ]  y: 0\n",
      " x: [0.4345461  0.29193902 0.64250207]  y: 1\n",
      " x: [0.9757855  0.43509948 0.6601019 ]  y: 2\n",
      " x: [0.60489583 0.6366315  0.6144488 ]  y: 3\n"
     ]
    }
   ],
   "source": [
    "ds_x = tf.data.Dataset.from_tensor_slices(t_x)\n",
    "ds_y = tf.data.Dataset.from_tensor_slices(t_y)\n",
    "ds_joint = tf.data.Dataset.zip((ds_x,ds_y))\n",
    "for item in ds_joint:\n",
    "  print(' x:', item[0].numpy(),\n",
    "        ' y:',item[1].numpy())"
   ]
  },
  {
   "cell_type": "code",
   "execution_count": 10,
   "id": "a624180a",
   "metadata": {},
   "outputs": [
    {
     "name": "stdout",
     "output_type": "stream",
     "text": [
      " x: [-0.6697383   0.80296254  0.26194835]  y: 0\n",
      " x: [-0.13090777 -0.41612196  0.28500414]  y: 1\n",
      " x: [ 0.951571   -0.12980103  0.32020378]  y: 2\n",
      " x: [0.20979166 0.27326298 0.22889757]  y: 3\n"
     ]
    },
    {
     "name": "stderr",
     "output_type": "stream",
     "text": [
      "2025-06-08 07:55:47.218884: I tensorflow/core/framework/local_rendezvous.cc:407] Local rendezvous is aborting with status: OUT_OF_RANGE: End of sequence\n"
     ]
    }
   ],
   "source": [
    "ds_trans = ds_joint.map(lambda x,y:(x*2-1.0,y))\n",
    "for item in ds_trans:\n",
    "  print(' x:', item[0].numpy(),\n",
    "        ' y:',item[1].numpy())"
   ]
  },
  {
   "cell_type": "code",
   "execution_count": 11,
   "id": "7bd49e42",
   "metadata": {},
   "outputs": [
    {
     "name": "stdout",
     "output_type": "stream",
     "text": [
      " x: [0.9757855  0.43509948 0.6601019 ]  y: 2\n",
      " x: [0.4345461  0.29193902 0.64250207]  y: 1\n",
      " x: [0.16513085 0.9014813  0.6309742 ]  y: 0\n",
      " x: [0.60489583 0.6366315  0.6144488 ]  y: 3\n"
     ]
    }
   ],
   "source": [
    "tf.random.set_seed(1)\n",
    "ds = ds_joint.shuffle(buffer_size=len(t_x))\n",
    "for e in ds:\n",
    "  print(' x:', e[0].numpy(),\n",
    "        ' y:',e[1].numpy())"
   ]
  },
  {
   "cell_type": "code",
   "execution_count": 12,
   "id": "b57f8c8b",
   "metadata": {},
   "outputs": [
    {
     "name": "stdout",
     "output_type": "stream",
     "text": [
      "batch x:\n",
      " [[0.16513085 0.9014813  0.6309742 ]\n",
      " [0.4345461  0.29193902 0.64250207]\n",
      " [0.9757855  0.43509948 0.6601019 ]]\n",
      "batch y:\n",
      " [0 1 2]\n"
     ]
    }
   ],
   "source": [
    "ds = ds_joint.batch(batch_size=3,drop_remainder=False)\n",
    "batch_x,batch_y = next(iter(ds))\n",
    "print('batch x:\\n',batch_x.numpy())\n",
    "print('batch y:\\n',batch_y.numpy())"
   ]
  },
  {
   "cell_type": "code",
   "execution_count": 13,
   "id": "794b9025",
   "metadata": {},
   "outputs": [
    {
     "name": "stdout",
     "output_type": "stream",
     "text": [
      "0 [[0.16513085 0.9014813  0.6309742 ]\n",
      " [0.4345461  0.29193902 0.64250207]\n",
      " [0.9757855  0.43509948 0.6601019 ]] [0 1 2]\n",
      "1 [[0.60489583 0.6366315  0.6144488 ]] [3]\n",
      "2 [[0.16513085 0.9014813  0.6309742 ]\n",
      " [0.4345461  0.29193902 0.64250207]\n",
      " [0.9757855  0.43509948 0.6601019 ]] [0 1 2]\n",
      "3 [[0.60489583 0.6366315  0.6144488 ]] [3]\n"
     ]
    }
   ],
   "source": [
    "ds = ds_joint.batch(3).repeat(count=2)\n",
    "for i,(batch_x,batch_y) in enumerate(ds):\n",
    "  print(i,batch_x.numpy(),batch_y.numpy())"
   ]
  },
  {
   "cell_type": "code",
   "execution_count": 14,
   "id": "644f603d",
   "metadata": {},
   "outputs": [
    {
     "name": "stdout",
     "output_type": "stream",
     "text": [
      "0 [[0.9757855  0.43509948 0.6601019 ]\n",
      " [0.4345461  0.29193902 0.64250207]] [2 1]\n",
      "1 [[0.16513085 0.9014813  0.6309742 ]\n",
      " [0.60489583 0.6366315  0.6144488 ]] [0 3]\n",
      "2 [[0.16513085 0.9014813  0.6309742 ]\n",
      " [0.60489583 0.6366315  0.6144488 ]] [0 3]\n",
      "3 [[0.4345461  0.29193902 0.64250207]\n",
      " [0.9757855  0.43509948 0.6601019 ]] [1 2]\n",
      "4 [[0.60489583 0.6366315  0.6144488 ]\n",
      " [0.16513085 0.9014813  0.6309742 ]] [3 0]\n",
      "5 [[0.4345461  0.29193902 0.64250207]\n",
      " [0.9757855  0.43509948 0.6601019 ]] [1 2]\n",
      "6 [[0.4345461  0.29193902 0.64250207]\n",
      " [0.60489583 0.6366315  0.6144488 ]] [1 3]\n",
      "7 [[0.9757855  0.43509948 0.6601019 ]\n",
      " [0.16513085 0.9014813  0.6309742 ]] [2 0]\n",
      "8 [[0.4345461  0.29193902 0.64250207]\n",
      " [0.9757855  0.43509948 0.6601019 ]] [1 2]\n",
      "9 [[0.60489583 0.6366315  0.6144488 ]\n",
      " [0.16513085 0.9014813  0.6309742 ]] [3 0]\n",
      "10 [[0.60489583 0.6366315  0.6144488 ]\n",
      " [0.16513085 0.9014813  0.6309742 ]] [3 0]\n",
      "11 [[0.9757855  0.43509948 0.6601019 ]\n",
      " [0.4345461  0.29193902 0.64250207]] [2 1]\n",
      "12 [[0.60489583 0.6366315  0.6144488 ]\n",
      " [0.16513085 0.9014813  0.6309742 ]] [3 0]\n",
      "13 [[0.4345461  0.29193902 0.64250207]\n",
      " [0.9757855  0.43509948 0.6601019 ]] [1 2]\n",
      "14 [[0.60489583 0.6366315  0.6144488 ]\n",
      " [0.16513085 0.9014813  0.6309742 ]] [3 0]\n",
      "15 [[0.9757855  0.43509948 0.6601019 ]\n",
      " [0.4345461  0.29193902 0.64250207]] [2 1]\n",
      "16 [[0.9757855  0.43509948 0.6601019 ]\n",
      " [0.60489583 0.6366315  0.6144488 ]] [2 3]\n",
      "17 [[0.16513085 0.9014813  0.6309742 ]\n",
      " [0.4345461  0.29193902 0.64250207]] [0 1]\n",
      "18 [[0.4345461  0.29193902 0.64250207]\n",
      " [0.9757855  0.43509948 0.6601019 ]] [1 2]\n",
      "19 [[0.16513085 0.9014813  0.6309742 ]\n",
      " [0.60489583 0.6366315  0.6144488 ]] [0 3]\n",
      "20 [[0.16513085 0.9014813  0.6309742 ]\n",
      " [0.4345461  0.29193902 0.64250207]] [0 1]\n",
      "21 [[0.9757855  0.43509948 0.6601019 ]\n",
      " [0.60489583 0.6366315  0.6144488 ]] [2 3]\n",
      "22 [[0.60489583 0.6366315  0.6144488 ]\n",
      " [0.9757855  0.43509948 0.6601019 ]] [3 2]\n",
      "23 [[0.16513085 0.9014813  0.6309742 ]\n",
      " [0.4345461  0.29193902 0.64250207]] [0 1]\n",
      "24 [[0.60489583 0.6366315  0.6144488 ]\n",
      " [0.16513085 0.9014813  0.6309742 ]] [3 0]\n",
      "25 [[0.4345461  0.29193902 0.64250207]\n",
      " [0.9757855  0.43509948 0.6601019 ]] [1 2]\n",
      "26 [[0.4345461  0.29193902 0.64250207]\n",
      " [0.60489583 0.6366315  0.6144488 ]] [1 3]\n",
      "27 [[0.9757855  0.43509948 0.6601019 ]\n",
      " [0.16513085 0.9014813  0.6309742 ]] [2 0]\n",
      "28 [[0.9757855  0.43509948 0.6601019 ]\n",
      " [0.4345461  0.29193902 0.64250207]] [2 1]\n",
      "29 [[0.16513085 0.9014813  0.6309742 ]\n",
      " [0.60489583 0.6366315  0.6144488 ]] [0 3]\n",
      "30 [[0.9757855  0.43509948 0.6601019 ]\n",
      " [0.60489583 0.6366315  0.6144488 ]] [2 3]\n",
      "31 [[0.16513085 0.9014813  0.6309742 ]\n",
      " [0.4345461  0.29193902 0.64250207]] [0 1]\n",
      "32 [[0.60489583 0.6366315  0.6144488 ]\n",
      " [0.4345461  0.29193902 0.64250207]] [3 1]\n",
      "33 [[0.9757855  0.43509948 0.6601019 ]\n",
      " [0.16513085 0.9014813  0.6309742 ]] [2 0]\n",
      "34 [[0.60489583 0.6366315  0.6144488 ]\n",
      " [0.9757855  0.43509948 0.6601019 ]] [3 2]\n",
      "35 [[0.4345461  0.29193902 0.64250207]\n",
      " [0.16513085 0.9014813  0.6309742 ]] [1 0]\n",
      "36 [[0.60489583 0.6366315  0.6144488 ]\n",
      " [0.16513085 0.9014813  0.6309742 ]] [3 0]\n",
      "37 [[0.9757855  0.43509948 0.6601019 ]\n",
      " [0.4345461  0.29193902 0.64250207]] [2 1]\n",
      "38 [[0.16513085 0.9014813  0.6309742 ]\n",
      " [0.9757855  0.43509948 0.6601019 ]] [0 2]\n",
      "39 [[0.60489583 0.6366315  0.6144488 ]\n",
      " [0.4345461  0.29193902 0.64250207]] [3 1]\n"
     ]
    }
   ],
   "source": [
    "tf.random.set_seed(1)\n",
    "ds = ds_joint.shuffle(4).batch(2).repeat(20)\n",
    "for i,(batch_x,batch_y) in enumerate(ds):\n",
    "  print(i,batch_x.numpy(),batch_y.numpy())"
   ]
  }
 ],
 "metadata": {
  "kernelspec": {
   "display_name": "base",
   "language": "python",
   "name": "python3"
  },
  "language_info": {
   "codemirror_mode": {
    "name": "ipython",
    "version": 3
   },
   "file_extension": ".py",
   "mimetype": "text/x-python",
   "name": "python",
   "nbconvert_exporter": "python",
   "pygments_lexer": "ipython3",
   "version": "3.12.2"
  }
 },
 "nbformat": 4,
 "nbformat_minor": 5
}
