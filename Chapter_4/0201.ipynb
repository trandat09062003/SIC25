{
 "cells": [
  {
   "cell_type": "markdown",
   "id": "b49a78f3",
   "metadata": {},
   "source": [
    "1. Discrete probability distribution:"
   ]
  },
  {
   "cell_type": "code",
   "execution_count": 1,
   "id": "85e214e1",
   "metadata": {},
   "outputs": [],
   "source": [
    "import scipy.stats as st\n",
    "import matplotlib.pyplot as plt\n",
    "import numpy as np\n",
    "%matplotlib inline"
   ]
  },
  {
   "cell_type": "markdown",
   "id": "227b8780",
   "metadata": {},
   "source": [
    "1.1. Binomial:"
   ]
  },
  {
   "cell_type": "code",
   "execution_count": 3,
   "id": "c6f74cbd",
   "metadata": {},
   "outputs": [],
   "source": [
    "# Sample size and the p parameter.\n",
    "n=10\n",
    "p=0.5"
   ]
  },
  {
   "cell_type": "code",
   "execution_count": 4,
   "id": "58f64701",
   "metadata": {},
   "outputs": [
    {
     "data": {
      "text/plain": [
       "np.float64(0.24609375000000003)"
      ]
     },
     "execution_count": 4,
     "metadata": {},
     "output_type": "execute_result"
    }
   ],
   "source": [
    "# Probability distribution at x = 5.\n",
    "st.binom.pmf(5, n, p)               "
   ]
  },
  {
   "cell_type": "code",
   "execution_count": 5,
   "id": "a276c2d1",
   "metadata": {},
   "outputs": [
    {
     "data": {
      "text/plain": [
       "np.float64(4.0)"
      ]
     },
     "execution_count": 5,
     "metadata": {},
     "output_type": "execute_result"
    }
   ],
   "source": [
    "# Quantile at alpha = 0.3\n",
    "# More about quantiles in the Unit III.\n",
    "st.binom.ppf(0.3, n, p)             "
   ]
  },
  {
   "cell_type": "code",
   "execution_count": 6,
   "id": "0319c87a",
   "metadata": {},
   "outputs": [
    {
     "data": {
      "text/plain": [
       "np.float64(0.623046875)"
      ]
     },
     "execution_count": 6,
     "metadata": {},
     "output_type": "execute_result"
    }
   ],
   "source": [
    "# P(0 <= x <= 5)\n",
    "st.binom.cdf(5,n,p)"
   ]
  },
  {
   "cell_type": "code",
   "execution_count": 7,
   "id": "012a19db",
   "metadata": {},
   "outputs": [
    {
     "data": {
      "text/plain": [
       "np.float64(0.890625)"
      ]
     },
     "execution_count": 7,
     "metadata": {},
     "output_type": "execute_result"
    }
   ],
   "source": [
    "# P(3 <= x <=7)\n",
    "st.binom.cdf(7,n,p)-st.binom.cdf(2,n,p)        "
   ]
  },
  {
   "cell_type": "code",
   "execution_count": 8,
   "id": "189bd381",
   "metadata": {},
   "outputs": [
    {
     "data": {
      "image/png": "[encoded data removed]",
      "text/plain": [
       "<Figure size 640x480 with 1 Axes>"
      ]
     },
     "metadata": {},
     "output_type": "display_data"
    }
   ],
   "source": [
    "# Visualizing the probability distribution.\n",
    "x=np.arange(0,11)\n",
    "plt.scatter(x, st.binom.pmf(x,n,p),color='red')\n",
    "plt.show()"
   ]
  },
  {
   "cell_type": "markdown",
   "id": "0d4bee28",
   "metadata": {},
   "source": [
    "1.2. Poisson:"
   ]
  },
  {
   "cell_type": "code",
   "execution_count": 9,
   "id": "aaacc3c2",
   "metadata": {},
   "outputs": [],
   "source": [
    "# The lambda parameter.\n",
    "lamb = 2"
   ]
  },
  {
   "cell_type": "code",
   "execution_count": 10,
   "id": "0f84f9bb",
   "metadata": {},
   "outputs": [
    {
     "data": {
      "text/plain": [
       "np.float64(0.2706705664732254)"
      ]
     },
     "execution_count": 10,
     "metadata": {},
     "output_type": "execute_result"
    }
   ],
   "source": [
    "# Probability distribution at x = 2.\n",
    "st.poisson.pmf(2,lamb)             "
   ]
  },
  {
   "cell_type": "code",
   "execution_count": 11,
   "id": "becc1496",
   "metadata": {},
   "outputs": [
    {
     "data": {
      "text/plain": [
       "np.float64(2.0)"
      ]
     },
     "execution_count": 11,
     "metadata": {},
     "output_type": "execute_result"
    }
   ],
   "source": [
    "# Quantile at alpha = 0.5\n",
    "# More about quantiles in the Unit III.\n",
    "st.poisson.ppf(0.5,lamb)                 "
   ]
  },
  {
   "cell_type": "code",
   "execution_count": 12,
   "id": "6c4dbce0",
   "metadata": {},
   "outputs": [
    {
     "data": {
      "text/plain": [
       "np.float64(0.9834363915193856)"
      ]
     },
     "execution_count": 12,
     "metadata": {},
     "output_type": "execute_result"
    }
   ],
   "source": [
    "# P(0 <= x <= 5)\n",
    "st.poisson.cdf(5,lamb)"
   ]
  },
  {
   "cell_type": "code",
   "execution_count": 13,
   "id": "2f9866a3",
   "metadata": {},
   "outputs": [
    {
     "data": {
      "text/plain": [
       "np.float64(0.3222268648490779)"
      ]
     },
     "execution_count": 13,
     "metadata": {},
     "output_type": "execute_result"
    }
   ],
   "source": [
    "# P(3 <= x <=7)\n",
    "st.poisson.cdf(7,lamb)-st.poisson.cdf(2,lamb)"
   ]
  },
  {
   "cell_type": "code",
   "execution_count": 14,
   "id": "0e57112d",
   "metadata": {},
   "outputs": [
    {
     "data": {
      "image/png": "[encoded data removed]",
      "text/plain": [
       "<Figure size 640x480 with 1 Axes>"
      ]
     },
     "metadata": {},
     "output_type": "display_data"
    }
   ],
   "source": [
    "# Visualizing the probability distribution.\n",
    "x=np.arange(0,11)\n",
    "plt.scatter(x, st.poisson.pmf(x,lamb),color='green')\n",
    "plt.show()"
   ]
  }
 ],
 "metadata": {
  "kernelspec": {
   "display_name": "base",
   "language": "python",
   "name": "python3"
  },
  "language_info": {
   "codemirror_mode": {
    "name": "ipython",
    "version": 3
   },
   "file_extension": ".py",
   "mimetype": "text/x-python",
   "name": "python",
   "nbconvert_exporter": "python",
   "pygments_lexer": "ipython3",
   "version": "3.12.2"
  }
 },
 "nbformat": 4,
 "nbformat_minor": 5
}
