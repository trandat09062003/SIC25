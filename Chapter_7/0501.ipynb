{
 "cells": [
  {
   "cell_type": "markdown",
   "id": "6b9863a2",
   "metadata": {},
   "source": [
    "1. String functions:"
   ]
  },
  {
   "cell_type": "code",
   "execution_count": 1,
   "id": "f5b315a0",
   "metadata": {},
   "outputs": [
    {
     "data": {
      "text/plain": [
       "'hello! how are you?'"
      ]
     },
     "execution_count": 1,
     "metadata": {},
     "output_type": "execute_result"
    }
   ],
   "source": [
    "# To lowercase.\n",
    "\"HELLO! HOW ARE YOU?\".lower()"
   ]
  },
  {
   "cell_type": "code",
   "execution_count": 2,
   "id": "6d120716",
   "metadata": {},
   "outputs": [
    {
     "data": {
      "text/plain": [
       "'THIS IS A WARNING!'"
      ]
     },
     "execution_count": 2,
     "metadata": {},
     "output_type": "execute_result"
    }
   ],
   "source": [
    "# To uppercase.\n",
    "\"this is a warning!\".upper()"
   ]
  },
  {
   "cell_type": "code",
   "execution_count": 3,
   "id": "65964e72",
   "metadata": {},
   "outputs": [],
   "source": [
    "# Split the string using a space as separator.\n",
    "x = \"Once uppon a time, there was a prince and a princess.\".split(\" \")"
   ]
  },
  {
   "cell_type": "code",
   "execution_count": 4,
   "id": "fa509b6d",
   "metadata": {},
   "outputs": [
    {
     "name": "stdout",
     "output_type": "stream",
     "text": [
      "['Once', 'uppon', 'a', 'time,', 'there', 'was', 'a', 'prince', 'and', 'a', 'princess.']\n"
     ]
    }
   ],
   "source": [
    "print(x)"
   ]
  },
  {
   "cell_type": "code",
   "execution_count": 5,
   "id": "19334e9b",
   "metadata": {},
   "outputs": [
    {
     "data": {
      "text/plain": [
       "'Once uppon a time, there was a prince and a princess.'"
      ]
     },
     "execution_count": 5,
     "metadata": {},
     "output_type": "execute_result"
    }
   ],
   "source": [
    "# Join the list of string objects using a space as separator.\n",
    "\" \".join(x)"
   ]
  },
  {
   "cell_type": "code",
   "execution_count": 6,
   "id": "f71bc232",
   "metadata": {},
   "outputs": [
    {
     "name": "stdout",
     "output_type": "stream",
     "text": [
      "53\n"
     ]
    }
   ],
   "source": [
    "# Measure the length of a string object.\n",
    "y = \"Once uppon a time, there was a prince and a princess.\"\n",
    "print(len(y))"
   ]
  },
  {
   "cell_type": "code",
   "execution_count": 7,
   "id": "a186216d",
   "metadata": {},
   "outputs": [
    {
     "data": {
      "text/plain": [
       "5"
      ]
     },
     "execution_count": 7,
     "metadata": {},
     "output_type": "execute_result"
    }
   ],
   "source": [
    "# Count the number of occurrences of 'a'.\n",
    "y.count('a')"
   ]
  },
  {
   "cell_type": "code",
   "execution_count": 8,
   "id": "e48d86f9",
   "metadata": {},
   "outputs": [
    {
     "data": {
      "text/plain": [
       "'Once uppon'"
      ]
     },
     "execution_count": 8,
     "metadata": {},
     "output_type": "execute_result"
    }
   ],
   "source": [
    "# Sub-string.\n",
    "y[0:10]"
   ]
  },
  {
   "cell_type": "markdown",
   "id": "ef854315",
   "metadata": {},
   "source": [
    "2. Regular expressions:"
   ]
  },
  {
   "cell_type": "code",
   "execution_count": 9,
   "id": "57c1ce83",
   "metadata": {},
   "outputs": [],
   "source": [
    "import re "
   ]
  },
  {
   "cell_type": "markdown",
   "id": "7873508e",
   "metadata": {},
   "source": [
    "2.1. Metacharacter: Dot"
   ]
  },
  {
   "cell_type": "code",
   "execution_count": 10,
   "id": "41910dfc",
   "metadata": {},
   "outputs": [],
   "source": [
    "# Target strings.\n",
    "x1 = \"ct\"\n",
    "x2 = \"cat\"\n",
    "x3 = \"caat\""
   ]
  },
  {
   "cell_type": "code",
   "execution_count": 11,
   "id": "71c34c35",
   "metadata": {},
   "outputs": [],
   "source": [
    "# A regular expression.\n",
    "my_expression = re.compile(\"c.t\")"
   ]
  },
  {
   "cell_type": "code",
   "execution_count": 12,
   "id": "8dd421e4",
   "metadata": {},
   "outputs": [
    {
     "name": "stdout",
     "output_type": "stream",
     "text": [
      "No\n"
     ]
    }
   ],
   "source": [
    "if my_expression.search(x1):\n",
    "    print(\"Yes!\")\n",
    "else:\n",
    "    print(\"No\")"
   ]
  },
  {
   "cell_type": "code",
   "execution_count": 13,
   "id": "21e5de18",
   "metadata": {},
   "outputs": [
    {
     "name": "stdout",
     "output_type": "stream",
     "text": [
      "Yes!\n"
     ]
    }
   ],
   "source": [
    "if my_expression.search(x2):\n",
    "    print(\"Yes!\")\n",
    "else:\n",
    "    print(\"No\")"
   ]
  },
  {
   "cell_type": "code",
   "execution_count": 14,
   "id": "9c198238",
   "metadata": {},
   "outputs": [
    {
     "name": "stdout",
     "output_type": "stream",
     "text": [
      "No\n"
     ]
    }
   ],
   "source": [
    "if my_expression.search(x3):\n",
    "    print(\"Yes!\")\n",
    "else:\n",
    "    print(\"No\")"
   ]
  },
  {
   "cell_type": "markdown",
   "id": "fa54f89f",
   "metadata": {},
   "source": [
    "2.2. Metacharacter:?"
   ]
  },
  {
   "cell_type": "code",
   "execution_count": 15,
   "id": "6d0ca5a5",
   "metadata": {},
   "outputs": [],
   "source": [
    "# A regular expression.\n",
    "my_exp = \"ca?t\""
   ]
  },
  {
   "cell_type": "code",
   "execution_count": 16,
   "id": "7967ae00",
   "metadata": {},
   "outputs": [
    {
     "name": "stdout",
     "output_type": "stream",
     "text": [
      "Yes!\n"
     ]
    }
   ],
   "source": [
    "if re.search(my_exp, x1):\n",
    "    print(\"Yes!\")\n",
    "else:\n",
    "    print(\"No\")"
   ]
  },
  {
   "cell_type": "code",
   "execution_count": 17,
   "id": "188d18fe",
   "metadata": {},
   "outputs": [
    {
     "name": "stdout",
     "output_type": "stream",
     "text": [
      "Yes!\n"
     ]
    }
   ],
   "source": [
    "if re.search(my_exp, x2):\n",
    "    print(\"Yes!\")\n",
    "else:\n",
    "    print(\"No\")"
   ]
  },
  {
   "cell_type": "code",
   "execution_count": 18,
   "id": "62140148",
   "metadata": {},
   "outputs": [
    {
     "name": "stdout",
     "output_type": "stream",
     "text": [
      "No\n"
     ]
    }
   ],
   "source": [
    "if re.search(my_exp, x3):\n",
    "    print(\"Yes!\")\n",
    "else:\n",
    "    print(\"No\")"
   ]
  },
  {
   "cell_type": "markdown",
   "id": "bd85b352",
   "metadata": {},
   "source": [
    "2.3. Metacharacter: {m, n}"
   ]
  },
  {
   "cell_type": "code",
   "execution_count": 19,
   "id": "2cac4169",
   "metadata": {},
   "outputs": [],
   "source": [
    "# Target strings.\n",
    "x1 = \"ct\"\n",
    "x2 = \"cat\"\n",
    "x3 = \"caat\"\n",
    "x4 = \"caaat\""
   ]
  },
  {
   "cell_type": "code",
   "execution_count": 20,
   "id": "cd846811",
   "metadata": {},
   "outputs": [],
   "source": [
    "# A regular expression.\n",
    "my_exp= \"ca{1,2}t\""
   ]
  },
  {
   "cell_type": "code",
   "execution_count": 21,
   "id": "dd765951",
   "metadata": {},
   "outputs": [
    {
     "name": "stdout",
     "output_type": "stream",
     "text": [
      "No\n"
     ]
    }
   ],
   "source": [
    "if re.search(my_exp, x1):\n",
    "    print(\"Yes!\")\n",
    "else:\n",
    "    print(\"No\")"
   ]
  },
  {
   "cell_type": "code",
   "execution_count": 22,
   "id": "e30f6002",
   "metadata": {},
   "outputs": [
    {
     "name": "stdout",
     "output_type": "stream",
     "text": [
      "Yes!\n"
     ]
    }
   ],
   "source": [
    "if re.search(my_exp, x2):\n",
    "    print(\"Yes!\")\n",
    "else:\n",
    "    print(\"No\")"
   ]
  },
  {
   "cell_type": "code",
   "execution_count": 23,
   "id": "2d84547a",
   "metadata": {},
   "outputs": [
    {
     "name": "stdout",
     "output_type": "stream",
     "text": [
      "Yes!\n"
     ]
    }
   ],
   "source": [
    "if re.search(my_exp, x3):\n",
    "    print(\"Yes!\")\n",
    "else:\n",
    "    print(\"No\")"
   ]
  },
  {
   "cell_type": "code",
   "execution_count": 24,
   "id": "d7be827a",
   "metadata": {},
   "outputs": [
    {
     "name": "stdout",
     "output_type": "stream",
     "text": [
      "No\n"
     ]
    }
   ],
   "source": [
    "if re.search(my_exp, x4):\n",
    "    print(\"Yes!\")\n",
    "else:\n",
    "    print(\"No\")"
   ]
  },
  {
   "cell_type": "markdown",
   "id": "fe5bf4e9",
   "metadata": {},
   "source": [
    "2.4. Metacharacter:^"
   ]
  },
  {
   "cell_type": "code",
   "execution_count": 25,
   "id": "e609a730",
   "metadata": {},
   "outputs": [],
   "source": [
    "# Target strings.\n",
    "x1 = \"That is your book.\"\n",
    "x2 = \"This is my book.\""
   ]
  },
  {
   "cell_type": "code",
   "execution_count": 26,
   "id": "5565a0b9",
   "metadata": {},
   "outputs": [],
   "source": [
    "# A regular expression.\n",
    "my_exp = \"^This\""
   ]
  },
  {
   "cell_type": "code",
   "execution_count": 27,
   "id": "9f94290c",
   "metadata": {},
   "outputs": [
    {
     "name": "stdout",
     "output_type": "stream",
     "text": [
      "No\n"
     ]
    }
   ],
   "source": [
    "if re.search(my_exp, x1):\n",
    "    print(\"Yes!\")\n",
    "else:\n",
    "    print(\"No\")"
   ]
  },
  {
   "cell_type": "code",
   "execution_count": 28,
   "id": "e5104d1a",
   "metadata": {},
   "outputs": [
    {
     "name": "stdout",
     "output_type": "stream",
     "text": [
      "Yes!\n"
     ]
    }
   ],
   "source": [
    "if re.search(my_exp, x2):\n",
    "    print(\"Yes!\")\n",
    "else:\n",
    "    print(\"No\")"
   ]
  },
  {
   "cell_type": "markdown",
   "id": "42f8b5aa",
   "metadata": {},
   "source": [
    "2.5. Metacharacter:^"
   ]
  },
  {
   "cell_type": "code",
   "execution_count": 29,
   "id": "1ff9a591",
   "metadata": {},
   "outputs": [],
   "source": [
    "# Target strings.\n",
    "x1 = \"I don't like you\"\n",
    "x2 = \"You are great\"\n",
    "x3 = \"in case you forget, remember this\""
   ]
  },
  {
   "cell_type": "code",
   "execution_count": 30,
   "id": "bd1748e4",
   "metadata": {},
   "outputs": [],
   "source": [
    "# A regular expression.\n",
    "my_exp = \"^[Ii]\""
   ]
  },
  {
   "cell_type": "code",
   "execution_count": 31,
   "id": "14c0f549",
   "metadata": {},
   "outputs": [
    {
     "name": "stdout",
     "output_type": "stream",
     "text": [
      "Yes!\n"
     ]
    }
   ],
   "source": [
    "if re.search(my_exp, x1):\n",
    "    print(\"Yes!\")\n",
    "else:\n",
    "    print(\"No\")"
   ]
  },
  {
   "cell_type": "code",
   "execution_count": 32,
   "id": "62a2d1c5",
   "metadata": {},
   "outputs": [
    {
     "name": "stdout",
     "output_type": "stream",
     "text": [
      "No\n"
     ]
    }
   ],
   "source": [
    "if re.search(my_exp, x2):\n",
    "    print(\"Yes!\")\n",
    "else:\n",
    "    print(\"No\")"
   ]
  },
  {
   "cell_type": "code",
   "execution_count": 33,
   "id": "9e581d39",
   "metadata": {},
   "outputs": [
    {
     "name": "stdout",
     "output_type": "stream",
     "text": [
      "Yes!\n"
     ]
    }
   ],
   "source": [
    "if re.search(my_exp, x3):\n",
    "    print(\"Yes!\")\n",
    "else:\n",
    "    print(\"No\")"
   ]
  },
  {
   "cell_type": "markdown",
   "id": "dac19d7d",
   "metadata": {},
   "source": [
    "More examples:"
   ]
  },
  {
   "cell_type": "code",
   "execution_count": 34,
   "id": "5f0fe099",
   "metadata": {},
   "outputs": [],
   "source": [
    "# Target strings.\n",
    "x1 = \"This is year 2019\"\n",
    "x2 = \"2000 is the year of my birth\""
   ]
  },
  {
   "cell_type": "code",
   "execution_count": 35,
   "id": "e21a1692",
   "metadata": {},
   "outputs": [],
   "source": [
    "# A regular expression.\n",
    "my_exp = \"^[0-9]\""
   ]
  },
  {
   "cell_type": "code",
   "execution_count": 36,
   "id": "2ecd5394",
   "metadata": {},
   "outputs": [
    {
     "name": "stdout",
     "output_type": "stream",
     "text": [
      "No\n"
     ]
    }
   ],
   "source": [
    "if re.search(my_exp, x1):\n",
    "    print(\"Yes!\")\n",
    "else:\n",
    "    print(\"No\")"
   ]
  },
  {
   "cell_type": "code",
   "execution_count": 37,
   "id": "ef94ff05",
   "metadata": {},
   "outputs": [
    {
     "name": "stdout",
     "output_type": "stream",
     "text": [
      "Yes!\n"
     ]
    }
   ],
   "source": [
    "if re.search(my_exp, x2):\n",
    "    print(\"Yes!\")\n",
    "else:\n",
    "    print(\"No\")"
   ]
  },
  {
   "cell_type": "markdown",
   "id": "04e2f0e3",
   "metadata": {},
   "source": [
    "2.6. Metacharacter: $"
   ]
  },
  {
   "cell_type": "code",
   "execution_count": 38,
   "id": "e53e88d8",
   "metadata": {},
   "outputs": [],
   "source": [
    "# Target strings.\n",
    "x1 = \"Python is easy\"\n",
    "x2 = \"You need Python\""
   ]
  },
  {
   "cell_type": "code",
   "execution_count": 39,
   "id": "11fef566",
   "metadata": {},
   "outputs": [],
   "source": [
    "# A regular expression.\n",
    "my_exp = \"Python$\""
   ]
  },
  {
   "cell_type": "code",
   "execution_count": 40,
   "id": "d914ab87",
   "metadata": {},
   "outputs": [
    {
     "name": "stdout",
     "output_type": "stream",
     "text": [
      "No\n"
     ]
    }
   ],
   "source": [
    "if re.search(my_exp, x1):\n",
    "    print(\"Yes!\")\n",
    "else:\n",
    "    print(\"No\")"
   ]
  },
  {
   "cell_type": "code",
   "execution_count": 41,
   "id": "554c3b86",
   "metadata": {},
   "outputs": [
    {
     "name": "stdout",
     "output_type": "stream",
     "text": [
      "Yes!\n"
     ]
    }
   ],
   "source": [
    "if re.search(my_exp, x2):\n",
    "    print(\"Yes!\")\n",
    "else:\n",
    "    print(\"No\")"
   ]
  },
  {
   "cell_type": "markdown",
   "id": "8d877334",
   "metadata": {},
   "source": [
    "2.7. Metacharacter:"
   ]
  },
  {
   "cell_type": "code",
   "execution_count": 42,
   "id": "f31771ad",
   "metadata": {},
   "outputs": [],
   "source": [
    "# Target strings.\n",
    "x1 = \"I love you\"\n",
    "x2 = \"I hate you\"\n",
    "x3 = \"I like you\""
   ]
  },
  {
   "cell_type": "code",
   "execution_count": 43,
   "id": "166860e2",
   "metadata": {},
   "outputs": [],
   "source": [
    "# A regular expression.\n",
    "my_exp = \"love|hate\""
   ]
  },
  {
   "cell_type": "code",
   "execution_count": 44,
   "id": "1a58cadb",
   "metadata": {},
   "outputs": [
    {
     "name": "stdout",
     "output_type": "stream",
     "text": [
      "Yes!\n"
     ]
    }
   ],
   "source": [
    "if re.search(my_exp, x1):\n",
    "    print(\"Yes!\")\n",
    "else:\n",
    "    print(\"No\")"
   ]
  },
  {
   "cell_type": "code",
   "execution_count": 45,
   "id": "3007a0a6",
   "metadata": {},
   "outputs": [
    {
     "name": "stdout",
     "output_type": "stream",
     "text": [
      "Yes!\n"
     ]
    }
   ],
   "source": [
    "if re.search(my_exp, x2):\n",
    "    print(\"Yes!\")\n",
    "else:\n",
    "    print(\"No\")"
   ]
  },
  {
   "cell_type": "code",
   "execution_count": 46,
   "id": "c53dfff4",
   "metadata": {},
   "outputs": [
    {
     "name": "stdout",
     "output_type": "stream",
     "text": [
      "No\n"
     ]
    }
   ],
   "source": [
    "if re.search(my_exp, x3):\n",
    "    print(\"Yes!\")\n",
    "else:\n",
    "    print(\"No\")"
   ]
  },
  {
   "cell_type": "markdown",
   "id": "85ba42bf",
   "metadata": {},
   "source": [
    "2.8. sub() function:"
   ]
  },
  {
   "cell_type": "code",
   "execution_count": 47,
   "id": "c4f06d8a",
   "metadata": {},
   "outputs": [],
   "source": [
    "# Target strings.\n",
    "x1 = \"Welcome to the year 2018\"\n",
    "x2 = \"Just ~%* ++++--- arrived at @Jack's ##place.\"\n",
    "x3 = \"I                  love                you.\""
   ]
  },
  {
   "cell_type": "code",
   "execution_count": 48,
   "id": "4975121d",
   "metadata": {},
   "outputs": [
    {
     "name": "stderr",
     "output_type": "stream",
     "text": [
      "<>:2: SyntaxWarning: invalid escape sequence '\\d'\n",
      "<>:2: SyntaxWarning: invalid escape sequence '\\d'\n",
      "/tmp/ipykernel_8547/1871500113.py:2: SyntaxWarning: invalid escape sequence '\\d'\n",
      "  re.sub('\\d','X',x1)\n"
     ]
    },
    {
     "data": {
      "text/plain": [
       "'Welcome to the year XXXX'"
      ]
     },
     "execution_count": 48,
     "metadata": {},
     "output_type": "execute_result"
    }
   ],
   "source": [
    "# Substitute the matching pattern with 'X'.\n",
    "re.sub('\\d','X',x1)"
   ]
  },
  {
   "cell_type": "code",
   "execution_count": 49,
   "id": "a1fafbfa",
   "metadata": {},
   "outputs": [
    {
     "data": {
      "text/plain": [
       "\"Just             arrived at  Jack's   place.\""
      ]
     },
     "execution_count": 49,
     "metadata": {},
     "output_type": "execute_result"
    }
   ],
   "source": [
    "# Substitute the matching pattern with space.\n",
    "x2_modified = re.sub('[@~*#%+-]',' ',x2)\n",
    "x2_modified"
   ]
  },
  {
   "cell_type": "code",
   "execution_count": 50,
   "id": "de9e5a30",
   "metadata": {},
   "outputs": [
    {
     "name": "stderr",
     "output_type": "stream",
     "text": [
      "<>:2: SyntaxWarning: invalid escape sequence '\\s'\n",
      "<>:2: SyntaxWarning: invalid escape sequence '\\s'\n",
      "/tmp/ipykernel_8547/3412094408.py:2: SyntaxWarning: invalid escape sequence '\\s'\n",
      "  x2_final = re.sub('\\s+',' ',x2_modified)\n"
     ]
    },
    {
     "data": {
      "text/plain": [
       "\"Just arrived at Jack's place.\""
      ]
     },
     "execution_count": 50,
     "metadata": {},
     "output_type": "execute_result"
    }
   ],
   "source": [
    "# Remove the excessive spaces.\n",
    "x2_final = re.sub('\\s+',' ',x2_modified)\n",
    "x2_final"
   ]
  },
  {
   "cell_type": "code",
   "execution_count": 51,
   "id": "855e50f2",
   "metadata": {},
   "outputs": [
    {
     "name": "stderr",
     "output_type": "stream",
     "text": [
      "<>:2: SyntaxWarning: invalid escape sequence '\\s'\n",
      "<>:2: SyntaxWarning: invalid escape sequence '\\s'\n",
      "/tmp/ipykernel_8547/268286320.py:2: SyntaxWarning: invalid escape sequence '\\s'\n",
      "  re.sub('\\s+',' ',x3)\n"
     ]
    },
    {
     "data": {
      "text/plain": [
       "'I love you.'"
      ]
     },
     "execution_count": 51,
     "metadata": {},
     "output_type": "execute_result"
    }
   ],
   "source": [
    "# Remove the excessive spaces.\n",
    "re.sub('\\s+',' ',x3)"
   ]
  }
 ],
 "metadata": {
  "kernelspec": {
   "display_name": "base",
   "language": "python",
   "name": "python3"
  },
  "language_info": {
   "codemirror_mode": {
    "name": "ipython",
    "version": 3
   },
   "file_extension": ".py",
   "mimetype": "text/x-python",
   "name": "python",
   "nbconvert_exporter": "python",
   "pygments_lexer": "ipython3",
   "version": "3.12.2"
  }
 },
 "nbformat": 4,
 "nbformat_minor": 5
}
