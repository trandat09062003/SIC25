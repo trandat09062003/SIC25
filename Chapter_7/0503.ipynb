{
 "cells": [
  {
   "cell_type": "code",
   "execution_count": 1,
   "id": "d06684fb",
   "metadata": {},
   "outputs": [],
   "source": [
    "import re"
   ]
  },
  {
   "cell_type": "markdown",
   "id": "9fcf1d00",
   "metadata": {},
   "source": [
    "1. Regular expressions (groups):\n",
    "\n",
    "1.1. Some examples of group:"
   ]
  },
  {
   "cell_type": "code",
   "execution_count": 2,
   "id": "70d8e81d",
   "metadata": {},
   "outputs": [
    {
     "name": "stdout",
     "output_type": "stream",
     "text": [
      "22\n"
     ]
    }
   ],
   "source": [
    "reg_ex = re.compile(\"([0-9]+)\")\n",
    "m = reg_ex.search(\"I am 22 years old. She is 20 years old.\")\n",
    "print(m.group(1))"
   ]
  },
  {
   "cell_type": "code",
   "execution_count": 3,
   "id": "185ad6ad",
   "metadata": {},
   "outputs": [
    {
     "name": "stdout",
     "output_type": "stream",
     "text": [
      "22\n",
      "20\n"
     ]
    }
   ],
   "source": [
    "reg_ex = re.compile(\"([0-9]+)[^0-9]+([0-9]+)\")\n",
    "m = reg_ex.search(\"I am 22 years old. She is 20 years old.\")\n",
    "print(m.group(1))\n",
    "print(m.group(2))"
   ]
  },
  {
   "cell_type": "code",
   "execution_count": 4,
   "id": "ab664751",
   "metadata": {},
   "outputs": [
    {
     "name": "stdout",
     "output_type": "stream",
     "text": [
      "John Wheeler\n",
      "010\n",
      "1234\n",
      "5678\n"
     ]
    }
   ],
   "source": [
    "reg_ex = re.compile(\"([^0-9]+)([0-9]+)[^0-9]+([0-9]+)[^0-9]+([0-9]+)\")\n",
    "m = reg_ex.search(\"John Wheeler 010-1234-5678\")\n",
    "print((m.group(1)).strip())\n",
    "print(m.group(2))\n",
    "print(m.group(3))\n",
    "print(m.group(4))"
   ]
  },
  {
   "cell_type": "markdown",
   "id": "786e33a9",
   "metadata": {},
   "source": [
    "1.2. Some examples of group with shrthand expression:\n",
    "\n",
    "\\d = [0-9]\n",
    "\n",
    "\\D = [^0-9]\n",
    "\n",
    "\\w = [0-9a-zA-Z_]\n",
    "\n",
    "\\w = [^0-9a-zA-Z_]"
   ]
  },
  {
   "cell_type": "code",
   "execution_count": 5,
   "id": "29ef80dc",
   "metadata": {},
   "outputs": [
    {
     "name": "stdout",
     "output_type": "stream",
     "text": [
      "22\n"
     ]
    },
    {
     "name": "stderr",
     "output_type": "stream",
     "text": [
      "<>:1: SyntaxWarning: invalid escape sequence '\\d'\n",
      "<>:1: SyntaxWarning: invalid escape sequence '\\d'\n",
      "/tmp/ipykernel_11468/3715464251.py:1: SyntaxWarning: invalid escape sequence '\\d'\n",
      "  reg_ex = re.compile(\"(\\d+)\")\n"
     ]
    }
   ],
   "source": [
    "reg_ex = re.compile(\"(\\d+)\")\n",
    "m = reg_ex.search(\"I am 22 years old. She is 20 years old.\")\n",
    "print(m.group(1))"
   ]
  },
  {
   "cell_type": "code",
   "execution_count": 6,
   "id": "a27858a8",
   "metadata": {},
   "outputs": [
    {
     "name": "stdout",
     "output_type": "stream",
     "text": [
      "22\n",
      "20\n"
     ]
    },
    {
     "name": "stderr",
     "output_type": "stream",
     "text": [
      "<>:1: SyntaxWarning: invalid escape sequence '\\d'\n",
      "<>:1: SyntaxWarning: invalid escape sequence '\\d'\n",
      "/tmp/ipykernel_11468/4286642521.py:1: SyntaxWarning: invalid escape sequence '\\d'\n",
      "  reg_ex = re.compile(\"(\\d+)\\D+(\\d+)\")\n"
     ]
    }
   ],
   "source": [
    "reg_ex = re.compile(\"(\\d+)\\D+(\\d+)\")\n",
    "m = reg_ex.search(\"I am 22 years old. She is 20 years old.\")\n",
    "print(m.group(1))\n",
    "print(m.group(2))"
   ]
  },
  {
   "cell_type": "code",
   "execution_count": 7,
   "id": "cb35593b",
   "metadata": {},
   "outputs": [
    {
     "name": "stdout",
     "output_type": "stream",
     "text": [
      "John Wheeler\n",
      "010\n",
      "1234\n",
      "5678\n"
     ]
    },
    {
     "name": "stderr",
     "output_type": "stream",
     "text": [
      "<>:1: SyntaxWarning: invalid escape sequence '\\D'\n",
      "<>:1: SyntaxWarning: invalid escape sequence '\\D'\n",
      "/tmp/ipykernel_11468/4035954905.py:1: SyntaxWarning: invalid escape sequence '\\D'\n",
      "  reg_ex = re.compile(\"(\\D+)(\\d+)\\D+(\\d+)\\D+(\\d+)\")\n"
     ]
    }
   ],
   "source": [
    "reg_ex = re.compile(\"(\\D+)(\\d+)\\D+(\\d+)\\D+(\\d+)\")\n",
    "m = reg_ex.search(\"John Wheeler 010-1234-5678\")\n",
    "print((m.group(1)).strip())\n",
    "print(m.group(2))\n",
    "print(m.group(3))\n",
    "print(m.group(4))"
   ]
  },
  {
   "cell_type": "code",
   "execution_count": 8,
   "id": "61271450",
   "metadata": {},
   "outputs": [
    {
     "name": "stdout",
     "output_type": "stream",
     "text": [
      "John Wheeler 010-****-****\n"
     ]
    },
    {
     "name": "stderr",
     "output_type": "stream",
     "text": [
      "<>:2: SyntaxWarning: invalid escape sequence '\\D'\n",
      "<>:2: SyntaxWarning: invalid escape sequence '\\D'\n",
      "/tmp/ipykernel_11468/1442449437.py:2: SyntaxWarning: invalid escape sequence '\\D'\n",
      "  reg_ex = re.compile(\"(\\D+)(\\d+)\\D+(\\d+)\\D+(\\d+)\")\n"
     ]
    }
   ],
   "source": [
    "# Hide the phone number.\n",
    "reg_ex = re.compile(\"(\\D+)(\\d+)\\D+(\\d+)\\D+(\\d+)\")\n",
    "m = reg_ex.search(\"John Wheeler 010-1234-5678\")\n",
    "print((m.group(1)).strip() + \" \" + m.group(2) + \"-****-****\")"
   ]
  },
  {
   "cell_type": "code",
   "execution_count": 9,
   "id": "7604fcf2",
   "metadata": {},
   "outputs": [
    {
     "name": "stdout",
     "output_type": "stream",
     "text": [
      "PHONE : 010-1234-5678\n"
     ]
    },
    {
     "name": "stderr",
     "output_type": "stream",
     "text": [
      "<>:2: SyntaxWarning: invalid escape sequence '\\D'\n",
      "<>:2: SyntaxWarning: invalid escape sequence '\\D'\n",
      "/tmp/ipykernel_11468/1201817498.py:2: SyntaxWarning: invalid escape sequence '\\D'\n",
      "  reg_ex = re.compile(\"(\\D+)((\\d+)\\D+(\\d+)\\D+(\\d+))\")\n"
     ]
    }
   ],
   "source": [
    "# Extract only the phone number.\n",
    "reg_ex = re.compile(\"(\\D+)((\\d+)\\D+(\\d+)\\D+(\\d+))\")\n",
    "m = reg_ex.search(\"John Wheeler 010-1234-5678\")\n",
    "print(\"PHONE : \" + m.group(2))"
   ]
  }
 ],
 "metadata": {
  "kernelspec": {
   "display_name": "base",
   "language": "python",
   "name": "python3"
  },
  "language_info": {
   "codemirror_mode": {
    "name": "ipython",
    "version": 3
   },
   "file_extension": ".py",
   "mimetype": "text/x-python",
   "name": "python",
   "nbconvert_exporter": "python",
   "pygments_lexer": "ipython3",
   "version": "3.12.2"
  }
 },
 "nbformat": 4,
 "nbformat_minor": 5
}
