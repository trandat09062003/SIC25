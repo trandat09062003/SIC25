{
 "cells": [
  {
   "cell_type": "markdown",
   "id": "ae30f067",
   "metadata": {},
   "source": [
    "1. Document classification with LSTM network:"
   ]
  },
  {
   "cell_type": "code",
   "execution_count": 1,
   "id": "82379363",
   "metadata": {},
   "outputs": [
    {
     "name": "stderr",
     "output_type": "stream",
     "text": [
      "2025-06-07 08:19:51.877406: I external/local_xla/xla/tsl/cuda/cudart_stub.cc:32] Could not find cuda drivers on your machine, GPU will not be used.\n",
      "2025-06-07 08:19:52.347786: I external/local_xla/xla/tsl/cuda/cudart_stub.cc:32] Could not find cuda drivers on your machine, GPU will not be used.\n",
      "2025-06-07 08:19:52.721950: E external/local_xla/xla/stream_executor/cuda/cuda_fft.cc:467] Unable to register cuFFT factory: Attempting to register factory for plugin cuFFT when one has already been registered\n",
      "WARNING: All log messages before absl::InitializeLog() is called are written to STDERR\n",
      "E0000 00:00:1749259193.084384    1276 cuda_dnn.cc:8579] Unable to register cuDNN factory: Attempting to register factory for plugin cuDNN when one has already been registered\n",
      "E0000 00:00:1749259193.182825    1276 cuda_blas.cc:1407] Unable to register cuBLAS factory: Attempting to register factory for plugin cuBLAS when one has already been registered\n",
      "W0000 00:00:1749259193.925719    1276 computation_placer.cc:177] computation placer already registered. Please check linkage and avoid linking the same target more than once.\n",
      "W0000 00:00:1749259193.925805    1276 computation_placer.cc:177] computation placer already registered. Please check linkage and avoid linking the same target more than once.\n",
      "W0000 00:00:1749259193.925818    1276 computation_placer.cc:177] computation placer already registered. Please check linkage and avoid linking the same target more than once.\n",
      "W0000 00:00:1749259193.925825    1276 computation_placer.cc:177] computation placer already registered. Please check linkage and avoid linking the same target more than once.\n",
      "2025-06-07 08:19:54.032716: I tensorflow/core/platform/cpu_feature_guard.cc:210] This TensorFlow binary is optimized to use available CPU instructions in performance-critical operations.\n",
      "To enable the following instructions: AVX2 FMA, in other operations, rebuild TensorFlow with the appropriate compiler flags.\n"
     ]
    }
   ],
   "source": [
    "import pandas as pd\n",
    "import numpy as np\n",
    "import warnings    \n",
    "import matplotlib.pyplot as plt\n",
    "from sklearn.model_selection import train_test_split\n",
    "from tensorflow.keras.datasets.reuters import load_data, get_word_index       # Reuters news data. \n",
    "from tensorflow.keras.models import Sequential\n",
    "from tensorflow.keras.layers import Dense, SimpleRNN, LSTM, Embedding\n",
    "from tensorflow.keras.utils import to_categorical\n",
    "from tensorflow.keras.preprocessing import sequence\n",
    "from tensorflow.keras.optimizers import Adam, RMSprop, SGD\n",
    "warnings.filterwarnings('ignore')                  # Turn the warnings off.\n",
    "%matplotlib inline"
   ]
  },
  {
   "cell_type": "markdown",
   "id": "e30b4204",
   "metadata": {},
   "source": [
    "1.1. Read in the data:"
   ]
  },
  {
   "cell_type": "code",
   "execution_count": 2,
   "id": "6f9fb858",
   "metadata": {},
   "outputs": [
    {
     "name": "stdout",
     "output_type": "stream",
     "text": [
      "Downloading data from https://storage.googleapis.com/tensorflow/tf-keras-datasets/reuters.npz\n",
      "\u001b[1m2110848/2110848\u001b[0m \u001b[32m━━━━━━━━━━━━━━━━━━━━\u001b[0m\u001b[37m\u001b[0m \u001b[1m2s\u001b[0m 1us/step\n"
     ]
    }
   ],
   "source": [
    "n_words = 1000                                        # Size of the vocabulary.\n",
    "(X_train, y_train), (X_test, y_test) = load_data(num_words = n_words, test_split = 0.3)\n",
    "n_train_size = X_train.shape[0]"
   ]
  },
  {
   "cell_type": "code",
   "execution_count": 3,
   "id": "5d8e1b81",
   "metadata": {},
   "outputs": [
    {
     "name": "stdout",
     "output_type": "stream",
     "text": [
      "--------------------------------------------------\n",
      "Training data X shape: (7859,)\n",
      "Training data y shape: (7859,)\n",
      "--------------------------------------------------\n",
      "Test data X shape: (3369,)\n",
      "Test data y shape: (3369,)\n",
      "--------------------------------------------------\n"
     ]
    }
   ],
   "source": [
    "# Check for the shapes.\n",
    "print(\"-\"*50)\n",
    "print(\"Training data X shape: {}\".format(X_train.shape))\n",
    "print(\"Training data y shape: {}\".format(y_train.shape))\n",
    "print(\"-\"*50)\n",
    "print(\"Test data X shape: {}\".format(X_test.shape))\n",
    "print(\"Test data y shape: {}\".format(y_test.shape))\n",
    "print(\"-\"*50)"
   ]
  },
  {
   "cell_type": "markdown",
   "id": "4be01f24",
   "metadata": {},
   "source": [
    "1.2. Explore the data:"
   ]
  },
  {
   "cell_type": "code",
   "execution_count": 4,
   "id": "4d7baf57",
   "metadata": {},
   "outputs": [
    {
     "data": {
      "text/plain": [
       "46"
      ]
     },
     "execution_count": 4,
     "metadata": {},
     "output_type": "execute_result"
    }
   ],
   "source": [
    "# Number of unique values of y = Number of categories of the newswires.\n",
    "n_cat = pd.Series(y_train).nunique()\n",
    "n_cat"
   ]
  },
  {
   "cell_type": "code",
   "execution_count": 5,
   "id": "aa072d01",
   "metadata": {},
   "outputs": [
    {
     "name": "stdout",
     "output_type": "stream",
     "text": [
      "[1, 2, 2, 8, 43, 10, 447, 5, 25, 207, 270, 5, 2, 111, 16, 369, 186, 90, 67, 7, 89, 5, 19, 102, 6, 19, 124, 15, 90, 67, 84, 22, 482, 26, 7, 48, 4, 49, 8, 864, 39, 209, 154, 6, 151, 6, 83, 11, 15, 22, 155, 11, 15, 7, 48, 9, 2, 2, 504, 6, 258, 6, 272, 11, 15, 22, 134, 44, 11, 15, 16, 8, 197, 2, 90, 67, 52, 29, 209, 30, 32, 132, 6, 109, 15, 17, 12]\n"
     ]
    }
   ],
   "source": [
    "# Print out an observation (document) contained in X.\n",
    "# It is encoded as integers (indices).\n",
    "print(X_train[0])"
   ]
  },
  {
   "cell_type": "code",
   "execution_count": 6,
   "id": "c3979e03",
   "metadata": {},
   "outputs": [
    {
     "name": "stdout",
     "output_type": "stream",
     "text": [
      "[87, 56, 139, 224, 101, 116, 100, 100, 82, 106, 31, 59, 65, 316, 527, 76, 114, 17, 91, 77, 231, 108, 83, 29, 95, 110, 23, 373, 114, 354, 133, 222, 571, 155, 83, 208, 170, 269, 74, 19, 23, 78, 21, 377, 104, 299, 89, 56, 94, 139, 118, 36, 137, 107, 83, 66, 70, 112, 88, 51, 83, 123, 17, 185, 84, 52, 102, 73, 106, 486, 107, 82, 263, 172, 491, 190, 143, 62, 26, 88, 114, 38, 85, 112, 793, 104, 25, 21, 101, 28, 25, 81, 135, 73, 62, 18, 90, 266, 91, 64]\n"
     ]
    }
   ],
   "source": [
    "# Let's check for length of the first 100 documents.\n",
    "# We notice that the length is not uniform.\n",
    "print([len(a) for a in X_train[0:100]])"
   ]
  },
  {
   "cell_type": "code",
   "execution_count": 7,
   "id": "06f93925",
   "metadata": {},
   "outputs": [
    {
     "name": "stdout",
     "output_type": "stream",
     "text": [
      "Downloading data from https://storage.googleapis.com/tensorflow/tf-keras-datasets/reuters_word_index.json\n",
      "\u001b[1m550378/550378\u001b[0m \u001b[32m━━━━━━━━━━━━━━━━━━━━\u001b[0m\u001b[37m\u001b[0m \u001b[1m1s\u001b[0m 3us/step\n"
     ]
    }
   ],
   "source": [
    "# Download the dictionary to translate the indices.\n",
    "my_dict = get_word_index(path='reuters_word_index.json')"
   ]
  },
  {
   "cell_type": "code",
   "execution_count": 8,
   "id": "75f21d95",
   "metadata": {},
   "outputs": [],
   "source": [
    "# To view the dictionary.\n",
    "# my_dict"
   ]
  },
  {
   "cell_type": "code",
   "execution_count": 9,
   "id": "08600326",
   "metadata": {},
   "outputs": [],
   "source": [
    "# Exchange the 'key' and 'value'.\n",
    "my_dict_inv = {v:k for k,v in my_dict.items()}"
   ]
  },
  {
   "cell_type": "code",
   "execution_count": 10,
   "id": "e7db9ed8",
   "metadata": {},
   "outputs": [
    {
     "name": "stdout",
     "output_type": "stream",
     "text": [
      "the federal gain only growth lt they meeting year reuter company did year an they of of reuter company of of 1987 had of of reuter had profits of pct dlrs\n"
     ]
    }
   ],
   "source": [
    "# Translate each document.\n",
    "i_news = 10                                        # Document number that can be changed at will.\n",
    "news = list(pd.Series(X_train[i_news]).apply(lambda x: my_dict_inv[x]))\n",
    "print(' '.join(news))"
   ]
  },
  {
   "cell_type": "markdown",
   "id": "c6161c08",
   "metadata": {},
   "source": [
    "1.3. Data preprocessing:"
   ]
  },
  {
   "cell_type": "code",
   "execution_count": 11,
   "id": "4b985f79",
   "metadata": {},
   "outputs": [],
   "source": [
    "# Padding: newswire lengths are uniformly matched to maxlen.\n",
    "# Cut away if longer than maxlen and fill with 0s if shorter than maxlen.\n",
    "X_train = sequence.pad_sequences(X_train, maxlen = 100)\n",
    "X_test = sequence.pad_sequences(X_test, maxlen = 100)"
   ]
  },
  {
   "cell_type": "code",
   "execution_count": 12,
   "id": "18ab6d88",
   "metadata": {},
   "outputs": [],
   "source": [
    "# Apply one-hot-encoding to the y variable.\n",
    "y = np.concatenate([y_train,y_test],axis=0)\n",
    "y = to_categorical(y,46)\n",
    "y_train = y[:n_train_size,:]\n",
    "y_test = y[n_train_size:,:]"
   ]
  },
  {
   "cell_type": "markdown",
   "id": "9c4a321f",
   "metadata": {},
   "source": [
    "1.4. Define the model:"
   ]
  },
  {
   "cell_type": "code",
   "execution_count": 13,
   "id": "dce087a2",
   "metadata": {},
   "outputs": [],
   "source": [
    "n_neurons = 100                   # Neurons within each memory cell.\n",
    "n_input = 100                     # Dimension of the embeding space. "
   ]
  },
  {
   "cell_type": "code",
   "execution_count": 14,
   "id": "88cb592e",
   "metadata": {},
   "outputs": [
    {
     "name": "stderr",
     "output_type": "stream",
     "text": [
      "2025-06-07 08:23:28.246394: E external/local_xla/xla/stream_executor/cuda/cuda_platform.cc:51] failed call to cuInit: INTERNAL: CUDA error: Failed call to cuInit: UNKNOWN ERROR (303)\n"
     ]
    }
   ],
   "source": [
    "# LSTM network model.\n",
    "my_model = Sequential()\n",
    "my_model.add(Embedding(n_words, n_input))           # n_words = vocabulary size, n_input = dimension of the embedding space.\n",
    "my_model.add(LSTM(units=n_neurons, return_sequences=False, input_shape=(None, n_input), activation='tanh'))\n",
    "my_model.add(Dense(n_cat, activation='softmax'))"
   ]
  },
  {
   "cell_type": "code",
   "execution_count": 15,
   "id": "99228b1a",
   "metadata": {},
   "outputs": [
    {
     "data": {
      "text/html": [
       "<pre style=\"white-space:pre;overflow-x:auto;line-height:normal;font-family:Menlo,'DejaVu Sans Mono',consolas,'Courier New',monospace\"><span style=\"font-weight: bold\">Model: \"sequential\"</span>\n",
       "</pre>\n"
      ],
      "text/plain": [
       "\u001b[1mModel: \"sequential\"\u001b[0m\n"
      ]
     },
     "metadata": {},
     "output_type": "display_data"
    },
    {
     "data": {
      "text/html": [
       "<pre style=\"white-space:pre;overflow-x:auto;line-height:normal;font-family:Menlo,'DejaVu Sans Mono',consolas,'Courier New',monospace\">┏━━━━━━━━━━━━━━━━━━━━━━━━━━━━━━━━━┳━━━━━━━━━━━━━━━━━━━━━━━━┳━━━━━━━━━━━━━━━┓\n",
       "┃<span style=\"font-weight: bold\"> Layer (type)                    </span>┃<span style=\"font-weight: bold\"> Output Shape           </span>┃<span style=\"font-weight: bold\">       Param # </span>┃\n",
       "┡━━━━━━━━━━━━━━━━━━━━━━━━━━━━━━━━━╇━━━━━━━━━━━━━━━━━━━━━━━━╇━━━━━━━━━━━━━━━┩\n",
       "│ embedding (<span style=\"color: #0087ff; text-decoration-color: #0087ff\">Embedding</span>)           │ ?                      │   <span style=\"color: #00af00; text-decoration-color: #00af00\">0</span> (unbuilt) │\n",
       "├─────────────────────────────────┼────────────────────────┼───────────────┤\n",
       "│ lstm (<span style=\"color: #0087ff; text-decoration-color: #0087ff\">LSTM</span>)                     │ ?                      │   <span style=\"color: #00af00; text-decoration-color: #00af00\">0</span> (unbuilt) │\n",
       "├─────────────────────────────────┼────────────────────────┼───────────────┤\n",
       "│ dense (<span style=\"color: #0087ff; text-decoration-color: #0087ff\">Dense</span>)                   │ ?                      │   <span style=\"color: #00af00; text-decoration-color: #00af00\">0</span> (unbuilt) │\n",
       "└─────────────────────────────────┴────────────────────────┴───────────────┘\n",
       "</pre>\n"
      ],
      "text/plain": [
       "┏━━━━━━━━━━━━━━━━━━━━━━━━━━━━━━━━━┳━━━━━━━━━━━━━━━━━━━━━━━━┳━━━━━━━━━━━━━━━┓\n",
       "┃\u001b[1m \u001b[0m\u001b[1mLayer (type)                   \u001b[0m\u001b[1m \u001b[0m┃\u001b[1m \u001b[0m\u001b[1mOutput Shape          \u001b[0m\u001b[1m \u001b[0m┃\u001b[1m \u001b[0m\u001b[1m      Param #\u001b[0m\u001b[1m \u001b[0m┃\n",
       "┡━━━━━━━━━━━━━━━━━━━━━━━━━━━━━━━━━╇━━━━━━━━━━━━━━━━━━━━━━━━╇━━━━━━━━━━━━━━━┩\n",
       "│ embedding (\u001b[38;5;33mEmbedding\u001b[0m)           │ ?                      │   \u001b[38;5;34m0\u001b[0m (unbuilt) │\n",
       "├─────────────────────────────────┼────────────────────────┼───────────────┤\n",
       "│ lstm (\u001b[38;5;33mLSTM\u001b[0m)                     │ ?                      │   \u001b[38;5;34m0\u001b[0m (unbuilt) │\n",
       "├─────────────────────────────────┼────────────────────────┼───────────────┤\n",
       "│ dense (\u001b[38;5;33mDense\u001b[0m)                   │ ?                      │   \u001b[38;5;34m0\u001b[0m (unbuilt) │\n",
       "└─────────────────────────────────┴────────────────────────┴───────────────┘\n"
      ]
     },
     "metadata": {},
     "output_type": "display_data"
    },
    {
     "data": {
      "text/html": [
       "<pre style=\"white-space:pre;overflow-x:auto;line-height:normal;font-family:Menlo,'DejaVu Sans Mono',consolas,'Courier New',monospace\"><span style=\"font-weight: bold\"> Total params: </span><span style=\"color: #00af00; text-decoration-color: #00af00\">0</span> (0.00 B)\n",
       "</pre>\n"
      ],
      "text/plain": [
       "\u001b[1m Total params: \u001b[0m\u001b[38;5;34m0\u001b[0m (0.00 B)\n"
      ]
     },
     "metadata": {},
     "output_type": "display_data"
    },
    {
     "data": {
      "text/html": [
       "<pre style=\"white-space:pre;overflow-x:auto;line-height:normal;font-family:Menlo,'DejaVu Sans Mono',consolas,'Courier New',monospace\"><span style=\"font-weight: bold\"> Trainable params: </span><span style=\"color: #00af00; text-decoration-color: #00af00\">0</span> (0.00 B)\n",
       "</pre>\n"
      ],
      "text/plain": [
       "\u001b[1m Trainable params: \u001b[0m\u001b[38;5;34m0\u001b[0m (0.00 B)\n"
      ]
     },
     "metadata": {},
     "output_type": "display_data"
    },
    {
     "data": {
      "text/html": [
       "<pre style=\"white-space:pre;overflow-x:auto;line-height:normal;font-family:Menlo,'DejaVu Sans Mono',consolas,'Courier New',monospace\"><span style=\"font-weight: bold\"> Non-trainable params: </span><span style=\"color: #00af00; text-decoration-color: #00af00\">0</span> (0.00 B)\n",
       "</pre>\n"
      ],
      "text/plain": [
       "\u001b[1m Non-trainable params: \u001b[0m\u001b[38;5;34m0\u001b[0m (0.00 B)\n"
      ]
     },
     "metadata": {},
     "output_type": "display_data"
    }
   ],
   "source": [
    "# View the summary.\n",
    "my_model.summary()"
   ]
  },
  {
   "cell_type": "markdown",
   "id": "f9d45375",
   "metadata": {},
   "source": [
    "1.5. Define the optimier and compile:"
   ]
  },
  {
   "cell_type": "code",
   "execution_count": 16,
   "id": "42d0d6d1",
   "metadata": {},
   "outputs": [],
   "source": [
    "n_epochs = 20                      # Number of epochs.\n",
    "batch_size = 20                    # Size of each batch.\n",
    "learn_rate = 0.001                 # learning rate.  "
   ]
  },
  {
   "cell_type": "code",
   "execution_count": 17,
   "id": "83033e59",
   "metadata": {},
   "outputs": [],
   "source": [
    "# Optimizer and compilation.\n",
    "my_optimizer=Adam(learning_rate=learn_rate)\n",
    "my_model.compile(loss = \"categorical_crossentropy\", optimizer = my_optimizer, metrics=[\"accuracy\"])"
   ]
  },
  {
   "cell_type": "markdown",
   "id": "fedacd09",
   "metadata": {},
   "source": [
    "1.6. Train the model and visualize the history:"
   ]
  },
  {
   "cell_type": "code",
   "execution_count": 18,
   "id": "91c39a1b",
   "metadata": {},
   "outputs": [
    {
     "name": "stdout",
     "output_type": "stream",
     "text": [
      "Epoch 1/20\n",
      "\u001b[1m315/315\u001b[0m \u001b[32m━━━━━━━━━━━━━━━━━━━━\u001b[0m\u001b[37m\u001b[0m \u001b[1m24s\u001b[0m 67ms/step - accuracy: 0.3688 - loss: 2.6050 - val_accuracy: 0.4898 - val_loss: 2.0614\n",
      "Epoch 2/20\n",
      "\u001b[1m315/315\u001b[0m \u001b[32m━━━━━━━━━━━━━━━━━━━━\u001b[0m\u001b[37m\u001b[0m \u001b[1m20s\u001b[0m 64ms/step - accuracy: 0.4970 - loss: 2.0236 - val_accuracy: 0.5375 - val_loss: 1.7668\n",
      "Epoch 3/20\n",
      "\u001b[1m315/315\u001b[0m \u001b[32m━━━━━━━━━━━━━━━━━━━━\u001b[0m\u001b[37m\u001b[0m \u001b[1m22s\u001b[0m 71ms/step - accuracy: 0.5638 - loss: 1.7410 - val_accuracy: 0.5732 - val_loss: 1.6244\n",
      "Epoch 4/20\n",
      "\u001b[1m315/315\u001b[0m \u001b[32m━━━━━━━━━━━━━━━━━━━━\u001b[0m\u001b[37m\u001b[0m \u001b[1m22s\u001b[0m 70ms/step - accuracy: 0.5984 - loss: 1.5602 - val_accuracy: 0.6310 - val_loss: 1.4735\n",
      "Epoch 5/20\n",
      "\u001b[1m315/315\u001b[0m \u001b[32m━━━━━━━━━━━━━━━━━━━━\u001b[0m\u001b[37m\u001b[0m \u001b[1m22s\u001b[0m 68ms/step - accuracy: 0.6336 - loss: 1.4578 - val_accuracy: 0.6590 - val_loss: 1.3688\n",
      "Epoch 6/20\n",
      "\u001b[1m315/315\u001b[0m \u001b[32m━━━━━━━━━━━━━━━━━━━━\u001b[0m\u001b[37m\u001b[0m \u001b[1m23s\u001b[0m 72ms/step - accuracy: 0.6827 - loss: 1.2848 - val_accuracy: 0.6737 - val_loss: 1.2989\n",
      "Epoch 7/20\n",
      "\u001b[1m315/315\u001b[0m \u001b[32m━━━━━━━━━━━━━━━━━━━━\u001b[0m\u001b[37m\u001b[0m \u001b[1m23s\u001b[0m 74ms/step - accuracy: 0.7184 - loss: 1.1427 - val_accuracy: 0.6940 - val_loss: 1.2388\n",
      "Epoch 8/20\n",
      "\u001b[1m315/315\u001b[0m \u001b[32m━━━━━━━━━━━━━━━━━━━━\u001b[0m\u001b[37m\u001b[0m \u001b[1m23s\u001b[0m 72ms/step - accuracy: 0.7397 - loss: 1.0503 - val_accuracy: 0.7099 - val_loss: 1.1838\n",
      "Epoch 9/20\n",
      "\u001b[1m315/315\u001b[0m \u001b[32m━━━━━━━━━━━━━━━━━━━━\u001b[0m\u001b[37m\u001b[0m \u001b[1m23s\u001b[0m 74ms/step - accuracy: 0.7746 - loss: 0.9334 - val_accuracy: 0.7303 - val_loss: 1.1412\n",
      "Epoch 10/20\n",
      "\u001b[1m315/315\u001b[0m \u001b[32m━━━━━━━━━━━━━━━━━━━━\u001b[0m\u001b[37m\u001b[0m \u001b[1m24s\u001b[0m 76ms/step - accuracy: 0.7891 - loss: 0.8612 - val_accuracy: 0.7303 - val_loss: 1.1634\n",
      "Epoch 11/20\n",
      "\u001b[1m315/315\u001b[0m \u001b[32m━━━━━━━━━━━━━━━━━━━━\u001b[0m\u001b[37m\u001b[0m \u001b[1m23s\u001b[0m 72ms/step - accuracy: 0.8068 - loss: 0.7878 - val_accuracy: 0.7309 - val_loss: 1.1491\n",
      "Epoch 12/20\n",
      "\u001b[1m315/315\u001b[0m \u001b[32m━━━━━━━━━━━━━━━━━━━━\u001b[0m\u001b[37m\u001b[0m \u001b[1m23s\u001b[0m 74ms/step - accuracy: 0.8203 - loss: 0.7199 - val_accuracy: 0.7360 - val_loss: 1.1680\n",
      "Epoch 13/20\n",
      "\u001b[1m315/315\u001b[0m \u001b[32m━━━━━━━━━━━━━━━━━━━━\u001b[0m\u001b[37m\u001b[0m \u001b[1m24s\u001b[0m 75ms/step - accuracy: 0.8421 - loss: 0.6525 - val_accuracy: 0.7258 - val_loss: 1.1902\n",
      "Epoch 14/20\n",
      "\u001b[1m315/315\u001b[0m \u001b[32m━━━━━━━━━━━━━━━━━━━━\u001b[0m\u001b[37m\u001b[0m \u001b[1m24s\u001b[0m 75ms/step - accuracy: 0.8568 - loss: 0.5771 - val_accuracy: 0.7265 - val_loss: 1.2110\n",
      "Epoch 15/20\n",
      "\u001b[1m315/315\u001b[0m \u001b[32m━━━━━━━━━━━━━━━━━━━━\u001b[0m\u001b[37m\u001b[0m \u001b[1m23s\u001b[0m 73ms/step - accuracy: 0.8577 - loss: 0.5821 - val_accuracy: 0.7341 - val_loss: 1.2340\n",
      "Epoch 16/20\n",
      "\u001b[1m315/315\u001b[0m \u001b[32m━━━━━━━━━━━━━━━━━━━━\u001b[0m\u001b[37m\u001b[0m \u001b[1m24s\u001b[0m 76ms/step - accuracy: 0.8849 - loss: 0.4770 - val_accuracy: 0.7207 - val_loss: 1.2994\n",
      "Epoch 17/20\n",
      "\u001b[1m315/315\u001b[0m \u001b[32m━━━━━━━━━━━━━━━━━━━━\u001b[0m\u001b[37m\u001b[0m \u001b[1m26s\u001b[0m 82ms/step - accuracy: 0.8948 - loss: 0.4427 - val_accuracy: 0.7226 - val_loss: 1.2931\n",
      "Epoch 18/20\n",
      "\u001b[1m315/315\u001b[0m \u001b[32m━━━━━━━━━━━━━━━━━━━━\u001b[0m\u001b[37m\u001b[0m \u001b[1m23s\u001b[0m 73ms/step - accuracy: 0.9054 - loss: 0.3984 - val_accuracy: 0.7239 - val_loss: 1.3653\n",
      "Epoch 19/20\n",
      "\u001b[1m315/315\u001b[0m \u001b[32m━━━━━━━━━━━━━━━━━━━━\u001b[0m\u001b[37m\u001b[0m \u001b[1m24s\u001b[0m 76ms/step - accuracy: 0.9132 - loss: 0.3618 - val_accuracy: 0.7239 - val_loss: 1.3806\n",
      "Epoch 20/20\n",
      "\u001b[1m315/315\u001b[0m \u001b[32m━━━━━━━━━━━━━━━━━━━━\u001b[0m\u001b[37m\u001b[0m \u001b[1m24s\u001b[0m 75ms/step - accuracy: 0.9252 - loss: 0.3138 - val_accuracy: 0.7303 - val_loss: 1.4161\n"
     ]
    }
   ],
   "source": [
    "my_summary = my_model.fit(X_train, y_train, epochs=n_epochs, batch_size = batch_size, validation_split=0.2, verbose = 1)"
   ]
  },
  {
   "cell_type": "code",
   "execution_count": 19,
   "id": "b676e882",
   "metadata": {},
   "outputs": [
    {
     "data": {
      "image/png": "[encoded data removed]",
      "text/plain": [
       "<Figure size 640x480 with 1 Axes>"
      ]
     },
     "metadata": {},
     "output_type": "display_data"
    }
   ],
   "source": [
    "plt.plot(my_summary.history['accuracy'], c=\"b\")\n",
    "plt.plot(my_summary.history['val_accuracy'], c=\"g\")\n",
    "plt.title('Training History')\n",
    "plt.ylabel('Accuracy')\n",
    "plt.xlabel('Epoch')\n",
    "plt.legend(['Train', 'Validation'], loc='lower right')\n",
    "plt.show()"
   ]
  },
  {
   "cell_type": "markdown",
   "id": "7bb0c851",
   "metadata": {},
   "source": [
    "1.7. Testing:"
   ]
  },
  {
   "cell_type": "code",
   "execution_count": 20,
   "id": "4ce48a32",
   "metadata": {},
   "outputs": [
    {
     "name": "stdout",
     "output_type": "stream",
     "text": [
      "Test Accuracy : 0.705\n"
     ]
    }
   ],
   "source": [
    "ACC = my_model.evaluate(X_test, y_test, verbose=0)[1]    \n",
    "print(\"Test Accuracy : {}\".format(np.round(ACC,3)))"
   ]
  }
 ],
 "metadata": {
  "kernelspec": {
   "display_name": "base",
   "language": "python",
   "name": "python3"
  },
  "language_info": {
   "codemirror_mode": {
    "name": "ipython",
    "version": 3
   },
   "file_extension": ".py",
   "mimetype": "text/x-python",
   "name": "python",
   "nbconvert_exporter": "python",
   "pygments_lexer": "ipython3",
   "version": "3.12.2"
  }
 },
 "nbformat": 4,
 "nbformat_minor": 5
}
