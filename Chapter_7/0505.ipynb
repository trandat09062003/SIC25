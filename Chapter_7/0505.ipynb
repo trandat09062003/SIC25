{
 "cells": [
  {
   "cell_type": "code",
   "execution_count": 2,
   "id": "fa50f324",
   "metadata": {},
   "outputs": [],
   "source": [
    "import tweepy\n",
    "import re\n",
    "import os\n",
    "import pickle\n",
    "import nltk\n",
    "from nltk.corpus import stopwords\n",
    "from tweepy import OAuthHandler"
   ]
  },
  {
   "cell_type": "markdown",
   "id": "499ced9d",
   "metadata": {},
   "source": [
    "1. Fetching tweets from Twitter:"
   ]
  },
  {
   "cell_type": "code",
   "execution_count": 3,
   "id": "27480b13",
   "metadata": {},
   "outputs": [],
   "source": [
    "# PLEASE FILL IN WITH YOUR OWN API KEYS!\n",
    "# my_consumer_key = \"\"\n",
    "# my_consumer_secret = \"\"\n",
    "# my_access_token = \"\"\n",
    "# my_access_secret = \"\""
   ]
  },
  {
   "cell_type": "code",
   "execution_count": 4,
   "id": "55e82fe9",
   "metadata": {},
   "outputs": [],
   "source": [
    "# Initialize the tokens.\n",
    "# auth = OAuthHandler(my_consumer_key, my_consumer_secret)\n",
    "# auth.set_access_token(my_access_token, my_access_secret)"
   ]
  },
  {
   "cell_type": "code",
   "execution_count": 5,
   "id": "3569069b",
   "metadata": {},
   "outputs": [],
   "source": [
    "# my_keyword = \"Trump\"                           # Search keyword.\n",
    "# my_location = \"40.71,-74.0,500km\"               # Location = latitude, longitude, radius.\n",
    "# n_tweets = 100                                 # Maximum number of tweets."
   ]
  },
  {
   "cell_type": "code",
   "execution_count": 6,
   "id": "b1b2a868",
   "metadata": {},
   "outputs": [],
   "source": [
    "# my_tweets = []\n",
    "# api = tweepy.API(auth, timeout = 10)           # Timeout after 10 seconds.\n",
    "# for status in tweepy.Cursor(api.search, q = my_keyword + \" -filter:retweets\", lang=\"en\", result_type=\"recent\", geocode=my_location).items(n_tweets):\n",
    "#     my_tweets.append(status.text)"
   ]
  },
  {
   "cell_type": "code",
   "execution_count": 7,
   "id": "5e7e496d",
   "metadata": {},
   "outputs": [],
   "source": [
    "# print('\\n'.join(my_tweets))"
   ]
  },
  {
   "cell_type": "markdown",
   "id": "7107c66d",
   "metadata": {},
   "source": [
    "2. Pre-processing the tweets:"
   ]
  },
  {
   "cell_type": "code",
   "execution_count": 8,
   "id": "83a643b0",
   "metadata": {},
   "outputs": [],
   "source": [
    "# my_tweets_new = []\n",
    "# for tweet in my_tweets:\n",
    "#     tweet = tweet.lower()\n",
    "#     tweet = re.sub(r\"^https://t.co/[a-zA-Z0-9]*\\s\", \" \", tweet)\n",
    "#     tweet = re.sub(r\"\\s+https://t.co/[a-zA-Z0-9]*\\s\", \" \", tweet)\n",
    "#     tweet = re.sub(r\"\\s+https://t.co/[a-zA-Z0-9]*$\", \" \", tweet)\n",
    "#     tweet = re.sub(r\"that's\",\"that is\",tweet)\n",
    "#     tweet = re.sub(r\"there's\",\"there is\",tweet)\n",
    "#     tweet = re.sub(r\"what's\",\"what is\",tweet)\n",
    "#     tweet = re.sub(r\"where's\",\"where is\",tweet)\n",
    "#     tweet = re.sub(r\"it's\",\"it is\",tweet)\n",
    "#     tweet = re.sub(r\"who's\",\"who is\",tweet)\n",
    "#     tweet = re.sub(r\"i'm\",\"i am\",tweet)\n",
    "#     tweet = re.sub(r\"she's\",\"she is\",tweet)\n",
    "#     tweet = re.sub(r\"he's\",\"he is\",tweet)\n",
    "#     tweet = re.sub(r\"they're\",\"they are\",tweet)\n",
    "#     tweet = re.sub(r\"who're\",\"who are\",tweet)\n",
    "#     tweet = re.sub(r\"ain't\",\"am not\",tweet)\n",
    "#     tweet = re.sub(r\"wouldn't\",\"would not\",tweet)\n",
    "#     tweet = re.sub(r\"shouldn't\",\"should not\",tweet)\n",
    "#     tweet = re.sub(r\"can't\",\"can not\",tweet)\n",
    "#     tweet = re.sub(r\"couldn't\",\"could not\",tweet)\n",
    "#     tweet = re.sub(r\"won't\",\"will not\",tweet)\n",
    "#     tweet = re.sub(r\"\\W\",\" \",tweet)\n",
    "#     tweet = re.sub(r\"\\d\",\" \",tweet)\n",
    "#     tweet = re.sub(r\"\\s+[a-z]\\s+\",\" \",tweet)\n",
    "#     tweet = re.sub(r\"\\s+[a-z]$\",\" \",tweet)\n",
    "#     tweet = re.sub(r\"^[a-z]\\s+\",\" \",tweet)\n",
    "#     tweet = re.sub(r\"\\s+\",\" \",tweet)\n",
    "#     words = nltk.word_tokenize(tweet)\n",
    "#     words = [x for x in words if x not in stopwords.words('english')]\n",
    "#     tweet = ' '.join(words) \n",
    "#     my_tweets_new.append(tweet)"
   ]
  },
  {
   "cell_type": "code",
   "execution_count": 9,
   "id": "a4cae29e",
   "metadata": {},
   "outputs": [],
   "source": [
    "# # Print out the tweets.\n",
    "# i = 0\n",
    "# for tw in my_tweets_new:\n",
    "#     i += 1\n",
    "#     print(str(i) + \" : \" + tw)"
   ]
  }
 ],
 "metadata": {
  "kernelspec": {
   "display_name": "base",
   "language": "python",
   "name": "python3"
  },
  "language_info": {
   "codemirror_mode": {
    "name": "ipython",
    "version": 3
   },
   "file_extension": ".py",
   "mimetype": "text/x-python",
   "name": "python",
   "nbconvert_exporter": "python",
   "pygments_lexer": "ipython3",
   "version": "3.12.2"
  }
 },
 "nbformat": 4,
 "nbformat_minor": 5
}
