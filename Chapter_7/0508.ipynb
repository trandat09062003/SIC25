{
 "cells": [
  {
   "cell_type": "code",
   "execution_count": 1,
   "id": "058bf903",
   "metadata": {},
   "outputs": [],
   "source": [
    "from wordcloud import WordCloud\n",
    "import numpy as np\n",
    "import nltk\n",
    "import re\n",
    "import os\n",
    "import matplotlib.pyplot as plt\n",
    "from PIL import Image                         # From the Pillow library import the Image module.\n",
    "from nltk.stem import WordNetLemmatizer\n",
    "from nltk.corpus import stopwords\n",
    "%matplotlib inline"
   ]
  },
  {
   "cell_type": "markdown",
   "id": "589284f6",
   "metadata": {},
   "source": [
    "1. Visualize the text data as a WordCloud:"
   ]
  },
  {
   "cell_type": "code",
   "execution_count": 2,
   "id": "e8693557",
   "metadata": {},
   "outputs": [],
   "source": [
    "# Go to the directory where the data file is located. \n",
    "# os.chdir(r'~~')                # Please, replace the path with your own.   "
   ]
  },
  {
   "cell_type": "code",
   "execution_count": 3,
   "id": "08242bfb",
   "metadata": {},
   "outputs": [],
   "source": [
    "f = open(\"./book_three_little_pigs.txt\",'r',encoding='UTF8')\n",
    "my_book = f.readlines()\n",
    "f.close()"
   ]
  },
  {
   "cell_type": "markdown",
   "id": "3fb87245",
   "metadata": {},
   "source": [
    "1.1. Pre-processing:"
   ]
  },
  {
   "cell_type": "code",
   "execution_count": null,
   "id": "ac7480dd",
   "metadata": {},
   "outputs": [],
   "source": [
    "n_min = 4                                                           # Minimum number of characters. \n",
    "corpus = []\n",
    "lemmatizer = WordNetLemmatizer()\n",
    "for a_line in my_book:\n",
    "    pre = re.sub(r'\\W', ' ', a_line)                                # Substitute the non-alphanumerics character by space.\n",
    "    pre = re.sub(r'\\d+','', pre)                                    # Remove numbers.\n",
    "    pre = nltk.word_tokenize(pre)                                   # Tokenize into words.\n",
    "    pre = [x for x in pre if len(x) > n_min]                        # Minimum length.\n",
    "    pre = [x.lower() for x in pre]                                  # Convert into the lowercase.\n",
    "    pre = [x for x in pre if x not in stopwords.words('english')]   # Remove stopwords.\n",
    "    pre = [lemmatizer.lemmatize(x) for x in pre]                    # Lemmatize.\n",
    "    corpus += pre                                                   # Back to the corpus."
   ]
  },
  {
   "cell_type": "code",
   "execution_count": null,
   "id": "9364a005",
   "metadata": {},
   "outputs": [],
   "source": [
    "len(corpus)"
   ]
  },
  {
   "cell_type": "markdown",
   "id": "bb7a753b",
   "metadata": {},
   "source": [
    "1.2. Generate a basic wordcloud:"
   ]
  },
  {
   "cell_type": "code",
   "execution_count": null,
   "id": "d229cb69",
   "metadata": {},
   "outputs": [],
   "source": [
    "# WordCloud requires that the imput data be a single long string.\n",
    "a_long_sentence = ' '.join(corpus)"
   ]
  },
  {
   "cell_type": "code",
   "execution_count": null,
   "id": "e4d0d9b3",
   "metadata": {},
   "outputs": [],
   "source": [
    "wc = WordCloud(background_color='white', max_words=30)              # Customize the output.\n",
    "wc.generate(a_long_sentence)\n",
    "# wc.words_                                                          # Check for the top ranking words.                                                         "
   ]
  },
  {
   "cell_type": "code",
   "execution_count": null,
   "id": "3ae62606",
   "metadata": {},
   "outputs": [],
   "source": [
    "plt.figure(figsize=(10,10))\n",
    "plt.imshow(wc, interpolation='bilinear')\n",
    "plt.axis(\"off\")                                    # Turn off the axes.\n",
    "plt.show()"
   ]
  },
  {
   "cell_type": "markdown",
   "id": "beed6b82",
   "metadata": {},
   "source": [
    "1.3. Generate wordcloud using a mask:"
   ]
  },
  {
   "cell_type": "code",
   "execution_count": null,
   "id": "b72f0d65",
   "metadata": {},
   "outputs": [],
   "source": [
    "# Pick a background mask.\n",
    "#img = Image.open('background_1.png')                    # Elipse.\n",
    "#img = Image.open('background_2.png')                   # Speech bubble.\n",
    "#img = Image.open('background_3.png')                    # Heart.\n",
    "img = Image.open('background_4.png')                    # Circle.\n",
    "back_mask = np.array(img)"
   ]
  },
  {
   "cell_type": "code",
   "execution_count": null,
   "id": "cf643da0",
   "metadata": {},
   "outputs": [],
   "source": [
    "wc = WordCloud(background_color='white', max_words=30, mask=back_mask)            # Customize the output. \n",
    "wc.generate(a_long_sentence) "
   ]
  },
  {
   "cell_type": "code",
   "execution_count": null,
   "id": "44343784",
   "metadata": {},
   "outputs": [],
   "source": [
    "plt.figure(figsize=(10,10))\n",
    "plt.imshow(wc, interpolation='bilinear')\n",
    "plt.axis(\"off\")                                    # Turn off the axes.\n",
    "plt.savefig(\"out.png\")                             # Save to an external file.  \n",
    "plt.show()"
   ]
  }
 ],
 "metadata": {
  "kernelspec": {
   "display_name": "base",
   "language": "python",
   "name": "python3"
  },
  "language_info": {
   "codemirror_mode": {
    "name": "ipython",
    "version": 3
   },
   "file_extension": ".py",
   "mimetype": "text/x-python",
   "name": "python",
   "nbconvert_exporter": "python",
   "pygments_lexer": "ipython3",
   "version": "3.12.2"
  }
 },
 "nbformat": 4,
 "nbformat_minor": 5
}
