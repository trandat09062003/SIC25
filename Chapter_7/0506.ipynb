{
 "cells": [
  {
   "cell_type": "code",
   "execution_count": 10,
   "id": "c5e0c928",
   "metadata": {},
   "outputs": [],
   "source": [
    "import nltk"
   ]
  },
  {
   "cell_type": "code",
   "execution_count": 11,
   "id": "4ff7e6fc",
   "metadata": {},
   "outputs": [
    {
     "name": "stderr",
     "output_type": "stream",
     "text": [
      "[nltk_data] Downloading package punkt to /home/thuong/nltk_data...\n",
      "[nltk_data]   Package punkt is already up-to-date!\n",
      "[nltk_data] Downloading package wordnet to /home/thuong/nltk_data...\n"
     ]
    },
    {
     "data": {
      "text/plain": [
       "True"
      ]
     },
     "execution_count": 11,
     "metadata": {},
     "output_type": "execute_result"
    }
   ],
   "source": [
    "nltk.download('punkt')\n",
    "nltk.download('wordnet')"
   ]
  },
  {
   "cell_type": "markdown",
   "id": "eb8d1e5e",
   "metadata": {},
   "source": [
    "1. About the NLTK library:"
   ]
  },
  {
   "cell_type": "code",
   "execution_count": 12,
   "id": "34d83904",
   "metadata": {},
   "outputs": [],
   "source": [
    "#\n",
    "#  From the US president B. Obama's Nov-4th-2008 speech. \n",
    "#\n",
    "\n",
    "paragraph = \"\"\"If there is anyone out there who still doubts that America is a place where all things are possible; who still wonders if the dream of our founders is alive in our time; who still questions the power of our democracy: Tonight is your answer.\n",
    "It's the answer told by lines that stretched around schools and churches in numbers this nation has never seen; by people who waited three hours and four hours, many for the very first time in their lives, because they believed that this time must be different; that their voices could be that difference. \n",
    "It's the answer spoken by young and old, rich and poor, Democrat and Republican, black, white, Hispanic, Asian, Native American, gay, straight, disabled and not disabled -- Americans who sent a message to the world that we have never been just a collection of individuals or a collection of Red States and Blue States: we are, and always will be, the United States of America!\n",
    "It's the answer that -- that led those who have been told for so long by so many to be cynical, and fearful, and doubtful about what we can achieve to put their hands on the arc of history and bend it once more toward the hope of a better day.\n",
    "It's been a long time coming, but tonight, because of what we did on this day, in this election, at this defining moment, change has come to America.\n",
    "A little bit earlier this evening, I received an extraordinarily gracious call from Senator McCain. Senator McCain fought long and hard in this campaign, and he's fought even longer and harder for the country that he loves. He has endured sacrifices for America that most of us cannot begin to imagine. We are better off for the service rendered by this brave and selfless leader. I congratulate him; I congratulate Governor Palin for all that they've achieved, and I look forward to working with them to renew this nation's promise in the months ahead.\n",
    "I want to thank my partner in this journey, a man who campaigned from his heart and spoke for the men and women he grew up with on the streets of Scranton and rode with on the train home to Delaware, the Vice President-elect of the United States, Joe Biden. \"\"\"                  "
   ]
  },
  {
   "cell_type": "markdown",
   "id": "259bb019",
   "metadata": {},
   "source": [
    "1.1. Tokenization:"
   ]
  },
  {
   "cell_type": "code",
   "execution_count": null,
   "id": "8f98c978",
   "metadata": {},
   "outputs": [],
   "source": [
    "# Tokenize into sentences.\n",
    "sentences = nltk.sent_tokenize(paragraph)\n",
    "print(sentences)"
   ]
  },
  {
   "cell_type": "code",
   "execution_count": null,
   "id": "d9ee4d8e",
   "metadata": {},
   "outputs": [],
   "source": [
    "# Tokenize into words.\n",
    "words = nltk.word_tokenize(paragraph)\n",
    "print(words)"
   ]
  },
  {
   "cell_type": "markdown",
   "id": "562c8baa",
   "metadata": {},
   "source": [
    "1.2. Stemming:"
   ]
  },
  {
   "cell_type": "code",
   "execution_count": null,
   "id": "3090d8e7",
   "metadata": {},
   "outputs": [],
   "source": [
    "from nltk.stem import PorterStemmer, LancasterStemmer, SnowballStemmer\n",
    "# Pick one of the following stemmers.\n",
    "#stemmer = SnowballStemmer('english')\n",
    "#stemmer = LancasterStemmer()\n",
    "stemmer = PorterStemmer()"
   ]
  },
  {
   "cell_type": "code",
   "execution_count": null,
   "id": "f70827a7",
   "metadata": {},
   "outputs": [],
   "source": [
    "# Stemming.\n",
    "for i in range(len(sentences)):\n",
    "    words = nltk.word_tokenize(sentences[i])               # Tokenize into words.\n",
    "    words = [stemmer.stem(x) for x in words]               # Stemming.\n",
    "    sentences[i] = ' '.join(words)                         # Rejoin the words as a sentence."
   ]
  },
  {
   "cell_type": "code",
   "execution_count": null,
   "id": "b3563f63",
   "metadata": {},
   "outputs": [],
   "source": [
    "print(sentences)"
   ]
  },
  {
   "cell_type": "code",
   "execution_count": null,
   "id": "007324b4",
   "metadata": {},
   "outputs": [],
   "source": [
    "stemmer.stem(\"worked\")"
   ]
  },
  {
   "cell_type": "code",
   "execution_count": null,
   "id": "c1b75217",
   "metadata": {},
   "outputs": [],
   "source": [
    "stemmer.stem(\"cried\")"
   ]
  },
  {
   "cell_type": "code",
   "execution_count": null,
   "id": "0d2861ce",
   "metadata": {},
   "outputs": [],
   "source": [
    "stemmer.stem(\"remembrance\")"
   ]
  },
  {
   "cell_type": "code",
   "execution_count": null,
   "id": "92a118b7",
   "metadata": {},
   "outputs": [],
   "source": [
    "stemmer.stem(\"happily\")"
   ]
  },
  {
   "cell_type": "markdown",
   "id": "2294f73f",
   "metadata": {},
   "source": [
    "1.3. Lemmatization:"
   ]
  },
  {
   "cell_type": "code",
   "execution_count": null,
   "id": "088354fa",
   "metadata": {},
   "outputs": [],
   "source": [
    "from nltk.stem import WordNetLemmatizer\n",
    "from nltk.corpus import wordnet\n",
    "lemmatizer = WordNetLemmatizer()"
   ]
  },
  {
   "cell_type": "code",
   "execution_count": null,
   "id": "423aede1",
   "metadata": {},
   "outputs": [],
   "source": [
    "# Reset to the original sentences.\n",
    "sentences = nltk.sent_tokenize(paragraph)"
   ]
  },
  {
   "cell_type": "code",
   "execution_count": null,
   "id": "55b1d747",
   "metadata": {},
   "outputs": [],
   "source": [
    "# Lemmatization.\n",
    "for i in range(len(sentences)):\n",
    "    words = nltk.word_tokenize(sentences[i])              # Tokenize into words.\n",
    "    words = [lemmatizer.lemmatize(x) for x in words]      # Lemmatization. \n",
    "    sentences[i] = ' '.join(words)                        # Rejoin the words as a sentence."
   ]
  },
  {
   "cell_type": "code",
   "execution_count": null,
   "id": "d03cf89b",
   "metadata": {},
   "outputs": [],
   "source": [
    "print(sentences)"
   ]
  },
  {
   "cell_type": "markdown",
   "id": "3c42389d",
   "metadata": {},
   "source": [
    "Some more examples with the POS tags specified"
   ]
  },
  {
   "cell_type": "code",
   "execution_count": null,
   "id": "ade0859b",
   "metadata": {},
   "outputs": [],
   "source": [
    "lemmatizer.lemmatize(\"dogs\",wordnet.NOUN)    "
   ]
  },
  {
   "cell_type": "code",
   "execution_count": null,
   "id": "716686e7",
   "metadata": {},
   "outputs": [],
   "source": [
    "lemmatizer.lemmatize(\"wolves\", wordnet.NOUN)"
   ]
  },
  {
   "cell_type": "code",
   "execution_count": null,
   "id": "d461e65e",
   "metadata": {},
   "outputs": [],
   "source": [
    "lemmatizer.lemmatize(\"has\",wordnet.VERB)"
   ]
  },
  {
   "cell_type": "code",
   "execution_count": null,
   "id": "7b1043cb",
   "metadata": {},
   "outputs": [],
   "source": [
    "lemmatizer.lemmatize(\"helpful\", wordnet.ADJ)"
   ]
  },
  {
   "cell_type": "code",
   "execution_count": null,
   "id": "cddd6c9c",
   "metadata": {},
   "outputs": [],
   "source": [
    "lemmatizer.lemmatize(\"happily\", wordnet.ADV)"
   ]
  }
 ],
 "metadata": {
  "kernelspec": {
   "display_name": "base",
   "language": "python",
   "name": "python3"
  },
  "language_info": {
   "codemirror_mode": {
    "name": "ipython",
    "version": 3
   },
   "file_extension": ".py",
   "mimetype": "text/x-python",
   "name": "python",
   "nbconvert_exporter": "python",
   "pygments_lexer": "ipython3",
   "version": "3.12.2"
  }
 },
 "nbformat": 4,
 "nbformat_minor": 5
}
