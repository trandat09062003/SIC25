{
 "cells": [
  {
   "cell_type": "markdown",
   "id": "e4683498",
   "metadata": {},
   "source": [
    "1. Classification with logistic regression:"
   ]
  },
  {
   "cell_type": "code",
   "execution_count": 1,
   "id": "d293db66",
   "metadata": {},
   "outputs": [],
   "source": [
    "import numpy as np\n",
    "import pandas as pd\n",
    "import matplotlib.pyplot as plt\n",
    "import seaborn as sns\n",
    "from sklearn.datasets import load_breast_cancer\n",
    "from sklearn.model_selection import train_test_split\n",
    "from sklearn.linear_model import LogisticRegression\n",
    "from sklearn import metrics\n",
    "%matplotlib inline"
   ]
  },
  {
   "cell_type": "markdown",
   "id": "288b453d",
   "metadata": {},
   "source": [
    "1.1. Read in data and explore:"
   ]
  },
  {
   "cell_type": "code",
   "execution_count": 2,
   "id": "6f6b03bf",
   "metadata": {},
   "outputs": [],
   "source": [
    "# Load data.\n",
    "data = load_breast_cancer()"
   ]
  },
  {
   "cell_type": "code",
   "execution_count": 3,
   "id": "41ed3f69",
   "metadata": {},
   "outputs": [
    {
     "name": "stdout",
     "output_type": "stream",
     "text": [
      ".. _breast_cancer_dataset:\n",
      "\n",
      "Breast cancer wisconsin (diagnostic) dataset\n",
      "--------------------------------------------\n",
      "\n",
      "**Data Set Characteristics:**\n",
      "\n",
      ":Number of Instances: 569\n",
      "\n",
      ":Number of Attributes: 30 numeric, predictive attributes and the class\n",
      "\n",
      ":Attribute Information:\n",
      "    - radius (mean of distances from center to points on the perimeter)\n",
      "    - texture (standard deviation of gray-scale values)\n",
      "    - perimeter\n",
      "    - area\n",
      "    - smoothness (local variation in radius lengths)\n",
      "    - compactness (perimeter^2 / area - 1.0)\n",
      "    - concavity (severity of concave portions of the contour)\n",
      "    - concave points (number of concave portions of the contour)\n",
      "    - symmetry\n",
      "    - fractal dimension (\"coastline approximation\" - 1)\n",
      "\n",
      "    The mean, standard error, and \"worst\" or largest (mean of the three\n",
      "    worst/largest values) of these features were computed for each image,\n",
      "    resulting in 30 features.  For instance, field 0 is Mean Radius, field\n",
      "    10 is Radius SE, field 20 is Worst Radius.\n",
      "\n",
      "    - class:\n",
      "            - WDBC-Malignant\n",
      "            - WDBC-Benign\n",
      "\n",
      ":Summary Statistics:\n",
      "\n",
      "===================================== ====== ======\n",
      "                                        Min    Max\n",
      "===================================== ====== ======\n",
      "radius (mean):                        6.981  28.11\n",
      "texture (mean):                       9.71   39.28\n",
      "perimeter (mean):                     43.79  188.5\n",
      "area (mean):                          143.5  2501.0\n",
      "smoothness (mean):                    0.053  0.163\n",
      "compactness (mean):                   0.019  0.345\n",
      "concavity (mean):                     0.0    0.427\n",
      "concave points (mean):                0.0    0.201\n",
      "symmetry (mean):                      0.106  0.304\n",
      "fractal dimension (mean):             0.05   0.097\n",
      "radius (standard error):              0.112  2.873\n",
      "texture (standard error):             0.36   4.885\n",
      "perimeter (standard error):           0.757  21.98\n",
      "area (standard error):                6.802  542.2\n",
      "smoothness (standard error):          0.002  0.031\n",
      "compactness (standard error):         0.002  0.135\n",
      "concavity (standard error):           0.0    0.396\n",
      "concave points (standard error):      0.0    0.053\n",
      "symmetry (standard error):            0.008  0.079\n",
      "fractal dimension (standard error):   0.001  0.03\n",
      "radius (worst):                       7.93   36.04\n",
      "texture (worst):                      12.02  49.54\n",
      "perimeter (worst):                    50.41  251.2\n",
      "area (worst):                         185.2  4254.0\n",
      "smoothness (worst):                   0.071  0.223\n",
      "compactness (worst):                  0.027  1.058\n",
      "concavity (worst):                    0.0    1.252\n",
      "concave points (worst):               0.0    0.291\n",
      "symmetry (worst):                     0.156  0.664\n",
      "fractal dimension (worst):            0.055  0.208\n",
      "===================================== ====== ======\n",
      "\n",
      ":Missing Attribute Values: None\n",
      "\n",
      ":Class Distribution: 212 - Malignant, 357 - Benign\n",
      "\n",
      ":Creator:  Dr. William H. Wolberg, W. Nick Street, Olvi L. Mangasarian\n",
      "\n",
      ":Donor: Nick Street\n",
      "\n",
      ":Date: November, 1995\n",
      "\n",
      "This is a copy of UCI ML Breast Cancer Wisconsin (Diagnostic) datasets.\n",
      "https://goo.gl/U2Uwz2\n",
      "\n",
      "Features are computed from a digitized image of a fine needle\n",
      "aspirate (FNA) of a breast mass.  They describe\n",
      "characteristics of the cell nuclei present in the image.\n",
      "\n",
      "Separating plane described above was obtained using\n",
      "Multisurface Method-Tree (MSM-T) [K. P. Bennett, \"Decision Tree\n",
      "Construction Via Linear Programming.\" Proceedings of the 4th\n",
      "Midwest Artificial Intelligence and Cognitive Science Society,\n",
      "pp. 97-101, 1992], a classification method which uses linear\n",
      "programming to construct a decision tree.  Relevant features\n",
      "were selected using an exhaustive search in the space of 1-4\n",
      "features and 1-3 separating planes.\n",
      "\n",
      "The actual linear program used to obtain the separating plane\n",
      "in the 3-dimensional space is that described in:\n",
      "[K. P. Bennett and O. L. Mangasarian: \"Robust Linear\n",
      "Programming Discrimination of Two Linearly Inseparable Sets\",\n",
      "Optimization Methods and Software 1, 1992, 23-34].\n",
      "\n",
      "This database is also available through the UW CS ftp server:\n",
      "\n",
      "ftp ftp.cs.wisc.edu\n",
      "cd math-prog/cpo-dataset/machine-learn/WDBC/\n",
      "\n",
      ".. dropdown:: References\n",
      "\n",
      "  - W.N. Street, W.H. Wolberg and O.L. Mangasarian. Nuclear feature extraction\n",
      "    for breast tumor diagnosis. IS&T/SPIE 1993 International Symposium on\n",
      "    Electronic Imaging: Science and Technology, volume 1905, pages 861-870,\n",
      "    San Jose, CA, 1993.\n",
      "  - O.L. Mangasarian, W.N. Street and W.H. Wolberg. Breast cancer diagnosis and\n",
      "    prognosis via linear programming. Operations Research, 43(4), pages 570-577,\n",
      "    July-August 1995.\n",
      "  - W.H. Wolberg, W.N. Street, and O.L. Mangasarian. Machine learning techniques\n",
      "    to diagnose breast cancer from fine-needle aspirates. Cancer Letters 77 (1994)\n",
      "    163-171.\n",
      "\n"
     ]
    }
   ],
   "source": [
    "# Display the description.\n",
    "print(data.DESCR)"
   ]
  },
  {
   "cell_type": "code",
   "execution_count": 4,
   "id": "f7707351",
   "metadata": {},
   "outputs": [
    {
     "name": "stdout",
     "output_type": "stream",
     "text": [
      "['mean radius' 'mean texture' 'mean perimeter' 'mean area'\n",
      " 'mean smoothness' 'mean compactness' 'mean concavity'\n",
      " 'mean concave points' 'mean symmetry' 'mean fractal dimension'\n",
      " 'radius error' 'texture error' 'perimeter error' 'area error'\n",
      " 'smoothness error' 'compactness error' 'concavity error'\n",
      " 'concave points error' 'symmetry error' 'fractal dimension error'\n",
      " 'worst radius' 'worst texture' 'worst perimeter' 'worst area'\n",
      " 'worst smoothness' 'worst compactness' 'worst concavity'\n",
      " 'worst concave points' 'worst symmetry' 'worst fractal dimension']\n"
     ]
    }
   ],
   "source": [
    "# Explanatory variables.\n",
    "X = data['data']\n",
    "print(data['feature_names'])"
   ]
  },
  {
   "cell_type": "code",
   "execution_count": 5,
   "id": "17d267bf",
   "metadata": {},
   "outputs": [
    {
     "data": {
      "text/plain": [
       "(569, 30)"
      ]
     },
     "execution_count": 5,
     "metadata": {},
     "output_type": "execute_result"
    }
   ],
   "source": [
    "X.shape"
   ]
  },
  {
   "cell_type": "code",
   "execution_count": 6,
   "id": "3a839166",
   "metadata": {},
   "outputs": [
    {
     "name": "stdout",
     "output_type": "stream",
     "text": [
      "[np.str_('benign'), np.str_('malignant')]\n"
     ]
    }
   ],
   "source": [
    "# Response variable.\n",
    "# Relabel such that 0 = 'benign' and 1 = malignant.\n",
    "Y = 1 - data['target']\n",
    "label = list(data['target_names'])\n",
    "label.reverse()\n",
    "print(label)"
   ]
  },
  {
   "cell_type": "code",
   "execution_count": 7,
   "id": "019ff2c4",
   "metadata": {},
   "outputs": [
    {
     "data": {
      "image/png": "[encoded data removed]",
      "text/plain": [
       "<Figure size 640x480 with 1 Axes>"
      ]
     },
     "metadata": {},
     "output_type": "display_data"
    }
   ],
   "source": [
    "# Visualize the frequency table.\n",
    "ser = pd.Series(Y)\n",
    "table = ser.value_counts()\n",
    "table = table.sort_index()                                         # Has to be sorted for correct labeling.\n",
    "raw_data = {'x': label, 'y': table.values}\n",
    "sns.barplot(x='x', y='y', data=raw_data)\n",
    "plt.show()"
   ]
  },
  {
   "cell_type": "markdown",
   "id": "1061d904",
   "metadata": {},
   "source": [
    "1.2. Train and test:"
   ]
  },
  {
   "cell_type": "code",
   "execution_count": 8,
   "id": "d2da428c",
   "metadata": {},
   "outputs": [],
   "source": [
    "# Split the dataset into training and testing.\n",
    "X_train, X_test, Y_train, Y_test = train_test_split(X, Y, test_size=0.4, random_state=1234)"
   ]
  },
  {
   "cell_type": "code",
   "execution_count": 9,
   "id": "da2b289e",
   "metadata": {},
   "outputs": [
    {
     "name": "stdout",
     "output_type": "stream",
     "text": [
      "(341, 30)\n",
      "(228, 30)\n",
      "(341,)\n",
      "(228,)\n"
     ]
    }
   ],
   "source": [
    "print(X_train.shape)\n",
    "print(X_test.shape)\n",
    "print(Y_train.shape)\n",
    "print(Y_test.shape)"
   ]
  },
  {
   "cell_type": "code",
   "execution_count": 10,
   "id": "a18fe1c3",
   "metadata": {},
   "outputs": [],
   "source": [
    "# Train and predict.\n",
    "LL = LogisticRegression(solver='liblinear',max_iter=200)\n",
    "LL.fit(X_train,Y_train)\n",
    "Y_pred_test = LL.predict(X_test)                            # Out-of-sample prediction. "
   ]
  },
  {
   "cell_type": "code",
   "execution_count": 11,
   "id": "ccf043ae",
   "metadata": {},
   "outputs": [
    {
     "name": "stdout",
     "output_type": "stream",
     "text": [
      "[[139   5]\n",
      " [ 12  72]]\n"
     ]
    }
   ],
   "source": [
    "# Confusion matrix.\n",
    "conf_mat = metrics.confusion_matrix(Y_test,Y_pred_test)\n",
    "print(conf_mat)"
   ]
  },
  {
   "cell_type": "code",
   "execution_count": 12,
   "id": "70fc3908",
   "metadata": {},
   "outputs": [
    {
     "name": "stdout",
     "output_type": "stream",
     "text": [
      "Accuracy    = 0.925\n",
      "Sensitvity  = 0.857\n",
      "Specificity = 0.965\n",
      "Precision   = 0.935\n"
     ]
    }
   ],
   "source": [
    "# Accuracy, Sensitivity, Specificity and Precision using the confusion matrix.\n",
    "accuracy = (conf_mat[0,0] + conf_mat[1,1])/np.sum(conf_mat)\n",
    "sensitivity = conf_mat[1,1]/(conf_mat[1,0]+conf_mat[1,1])\n",
    "specificity = conf_mat[0,0]/(conf_mat[0,0]+conf_mat[0,1])\n",
    "precision = conf_mat[1,1]/(conf_mat[0,1]+conf_mat[1,1])\n",
    "print('Accuracy    = {}'.format(np.round(accuracy,3)))\n",
    "print('Sensitvity  = {}'.format(np.round(sensitivity,3)))\n",
    "print('Specificity = {}'.format(np.round(specificity,3)))\n",
    "print('Precision   = {}'.format(np.round(precision,3)))"
   ]
  },
  {
   "cell_type": "code",
   "execution_count": 13,
   "id": "beed2da1",
   "metadata": {},
   "outputs": [
    {
     "name": "stdout",
     "output_type": "stream",
     "text": [
      "Accuracy    = 0.925\n",
      "Sensitvity  = 0.857\n",
      "Precision   = 0.935\n"
     ]
    }
   ],
   "source": [
    "# Alternative way.\n",
    "accuracy = metrics.accuracy_score(Y_test,Y_pred_test)                      # Alternative way to calculate the accuracy.\n",
    "sensitivity = metrics.recall_score(Y_test,Y_pred_test)\n",
    "precision = metrics.precision_score(Y_test,Y_pred_test)\n",
    "print('Accuracy    = {}'.format(np.round(accuracy,3)))\n",
    "print('Sensitvity  = {}'.format(np.round(sensitivity,3)))\n",
    "print('Precision   = {}'.format(np.round(precision,3)))"
   ]
  },
  {
   "cell_type": "markdown",
   "id": "69c54431",
   "metadata": {},
   "source": [
    "1.3. Cutoff (threshold):"
   ]
  },
  {
   "cell_type": "code",
   "execution_count": 14,
   "id": "4bae23ba",
   "metadata": {},
   "outputs": [],
   "source": [
    "# Now, predict the probability of Y  = 1.\n",
    "Y_pred_test_prob=LL.predict_proba(X_test)[:,1]"
   ]
  },
  {
   "cell_type": "markdown",
   "id": "6af3d9d1",
   "metadata": {},
   "source": [
    "Double-click (or enter) to edit"
   ]
  },
  {
   "cell_type": "code",
   "execution_count": 15,
   "id": "451a9c94",
   "metadata": {},
   "outputs": [
    {
     "name": "stdout",
     "output_type": "stream",
     "text": [
      "[[143   1]\n",
      " [ 13  71]]\n"
     ]
    }
   ],
   "source": [
    "# One can change the cutoff at will\n",
    "cutoff = 0.7                                                      # cutoff can be a value between 0 and 1.\n",
    "Y_pred_test_val = (Y_pred_test_prob > cutoff).astype(int)\n",
    "conf_mat = metrics.confusion_matrix(Y_test,Y_pred_test_val)\n",
    "print(conf_mat)"
   ]
  },
  {
   "cell_type": "code",
   "execution_count": 16,
   "id": "b2836e91",
   "metadata": {},
   "outputs": [
    {
     "name": "stdout",
     "output_type": "stream",
     "text": [
      "Accuracy    = 0.939\n",
      "Sensitvity  = 0.845\n",
      "Specificity = 0.993\n",
      "Precision   = 0.986\n"
     ]
    }
   ],
   "source": [
    "accuracy = (conf_mat[0,0] + conf_mat[1,1])/np.sum(conf_mat)\n",
    "sensitivity = conf_mat[1,1]/(conf_mat[1,0]+conf_mat[1,1])\n",
    "specificity = conf_mat[0,0]/(conf_mat[0,0]+conf_mat[0,1])\n",
    "precision = conf_mat[1,1]/(conf_mat[0,1]+conf_mat[1,1])\n",
    "print('Accuracy    = {}'.format(np.round(accuracy,3)))\n",
    "print('Sensitvity  = {}'.format(np.round(sensitivity,3)))\n",
    "print('Specificity = {}'.format(np.round(specificity,3)))\n",
    "print('Precision   = {}'.format(np.round(precision,3)))"
   ]
  },
  {
   "cell_type": "markdown",
   "id": "22d0a4fb",
   "metadata": {},
   "source": [
    "1.4. ROC curve:"
   ]
  },
  {
   "cell_type": "code",
   "execution_count": 17,
   "id": "49e31113",
   "metadata": {},
   "outputs": [],
   "source": [
    "# Initialize.\n",
    "cutoff_grid = np.linspace(0.0,1.0,100)\n",
    "TPR = []                                                   # True Positive Rate.\n",
    "FPR = []                                                   # False Positive Rate."
   ]
  },
  {
   "cell_type": "code",
   "execution_count": 18,
   "id": "b3c05b86",
   "metadata": {},
   "outputs": [],
   "source": [
    "# Populate the TP and FP lists.\n",
    "for cutoff in cutoff_grid:\n",
    "    Y_pred_test_val = (Y_pred_test_prob > cutoff).astype(int)\n",
    "    conf_mat = metrics.confusion_matrix(Y_test,Y_pred_test_val)\n",
    "    sensitivity = conf_mat[1,1]/(conf_mat[1,0]+conf_mat[1,1])\n",
    "    specificity = conf_mat[0,0]/(conf_mat[0,0]+conf_mat[0,1])\n",
    "    TPR.append(sensitivity)\n",
    "    FPR.append(1-specificity)                             "
   ]
  },
  {
   "cell_type": "code",
   "execution_count": 19,
   "id": "16c0c8c2",
   "metadata": {},
   "outputs": [
    {
     "data": {
      "image/png": "[encoded data removed]",
      "text/plain": [
       "<Figure size 640x480 with 1 Axes>"
      ]
     },
     "metadata": {},
     "output_type": "display_data"
    }
   ],
   "source": [
    "# Visualize.\n",
    "plt.plot(FPR,TPR,c='red',linewidth=1.0)\n",
    "plt.xlabel('False Positive Rate')\n",
    "plt.ylabel('True Positive Rate')\n",
    "plt.title('ROC Curve')\n",
    "plt.show()"
   ]
  },
  {
   "cell_type": "markdown",
   "id": "41264d2a",
   "metadata": {},
   "source": [
    "1.5. ROC curve (sklearn):"
   ]
  },
  {
   "cell_type": "code",
   "execution_count": 20,
   "id": "cae00c31",
   "metadata": {},
   "outputs": [],
   "source": [
    "# Calculate the TPR and FPR using a Scikit Learn function.\n",
    "FPR, TPR, cutoffs = metrics.roc_curve(Y_test,Y_pred_test_prob,pos_label=1)      # positive label = 1."
   ]
  },
  {
   "cell_type": "code",
   "execution_count": 21,
   "id": "8d09e795",
   "metadata": {},
   "outputs": [
    {
     "data": {
      "image/png": "[encoded data removed]",
      "text/plain": [
       "<Figure size 640x480 with 1 Axes>"
      ]
     },
     "metadata": {},
     "output_type": "display_data"
    }
   ],
   "source": [
    "# Visualize.\n",
    "plt.plot(FPR,TPR,c='red',linewidth=1.0)\n",
    "plt.xlabel('False Positive')\n",
    "plt.ylabel('True Positive')\n",
    "plt.title('ROC Curve')\n",
    "plt.show()"
   ]
  },
  {
   "cell_type": "code",
   "execution_count": 22,
   "id": "134a4034",
   "metadata": {},
   "outputs": [
    {
     "name": "stdout",
     "output_type": "stream",
     "text": [
      "AUC  = 0.989\n"
     ]
    }
   ],
   "source": [
    "# AUC.\n",
    "auc = metrics.roc_auc_score(Y_test,Y_pred_test_prob)\n",
    "print('AUC  = {}'.format(np.round(auc,3)))"
   ]
  }
 ],
 "metadata": {
  "kernelspec": {
   "display_name": "base",
   "language": "python",
   "name": "python3"
  },
  "language_info": {
   "codemirror_mode": {
    "name": "ipython",
    "version": 3
   },
   "file_extension": ".py",
   "mimetype": "text/x-python",
   "name": "python",
   "nbconvert_exporter": "python",
   "pygments_lexer": "ipython3",
   "version": "3.12.2"
  }
 },
 "nbformat": 4,
 "nbformat_minor": 5
}
